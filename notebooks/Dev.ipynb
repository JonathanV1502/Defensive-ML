{
 "cells": [
  {
   "cell_type": "markdown",
   "metadata": {},
   "source": [
    "# Dev Notebook"
   ]
  },
  {
   "cell_type": "markdown",
   "metadata": {},
   "source": [
    "Baseline Model"
   ]
  },
  {
   "cell_type": "code",
   "execution_count": 1,
   "metadata": {},
   "outputs": [],
   "source": [
    "import sys\n",
    "import setproctitle\n",
    "sys.path.append('../src')\n",
    "\n",
    "import torch\n",
    "import torch.nn as nn\n",
    "from torch.nn import CrossEntropyLoss\n",
    "from torch.optim import SGD\n",
    "\n",
    "from Models import MLP\n",
    "from dataset import load_data, get_dataset\n",
    "from Trainer import MLPTrainer\n",
    "\n",
    "import matplotlib.pyplot as plt\n"
   ]
  },
  {
   "cell_type": "code",
   "execution_count": 6,
   "metadata": {},
   "outputs": [],
   "source": [
    "setproctitle.setproctitle(\"General_workflow\") # Shows string as Process name"
   ]
  },
  {
   "cell_type": "code",
   "execution_count": 7,
   "metadata": {},
   "outputs": [
    {
     "name": "stdout",
     "output_type": "stream",
     "text": [
      "Selected device: NVIDIA RTX A5000\n",
      "cuda:1\n"
     ]
    }
   ],
   "source": [
    "gpu_id = input(\"Enter GPU index: \") # Pick a GPU  \n",
    "\n",
    "# Set device to use GPU if available, otherwise use CPU\n",
    "if int(gpu_id) >= 0 and torch.cuda.is_available():\n",
    "    device = torch.device(\"cuda:\" + gpu_id)\n",
    "    print(\"Selected device:\", torch.cuda.get_device_name(device))\n",
    "    print(f\"cuda:{gpu_id}\")\n",
    "else:\n",
    "    print(\"No GPU available or no GPU index specified, using CPU instead.\")\n",
    "    device = torch.device(\"cpu\")"
   ]
  },
  {
   "cell_type": "code",
   "execution_count": 8,
   "metadata": {},
   "outputs": [
    {
     "name": "stdout",
     "output_type": "stream",
     "text": [
      "Device: cuda\n"
     ]
    }
   ],
   "source": [
    "\n",
    "device = torch.device(\"cuda\" if torch.cuda.is_available() else \"cpu\")\n",
    "print(f\"Device: {device}\")"
   ]
  },
  {
   "cell_type": "code",
   "execution_count": 9,
   "metadata": {},
   "outputs": [],
   "source": [
    "train_loader, valid_loader, test_loader = load_data(batch_size=64)"
   ]
  },
  {
   "cell_type": "code",
   "execution_count": 10,
   "metadata": {},
   "outputs": [
    {
     "name": "stdout",
     "output_type": "stream",
     "text": [
      "MLP(\n",
      "  (fc1): Linear(in_features=49, out_features=64, bias=True)\n",
      "  (relu1): ReLU()\n",
      "  (fc2): Linear(in_features=64, out_features=64, bias=True)\n",
      "  (relu2): ReLU()\n",
      "  (fc3): Linear(in_features=64, out_features=7, bias=True)\n",
      ")\n"
     ]
    }
   ],
   "source": [
    "model = MLP(num_features=49, hidden1_size=64, hidden2_size=64, num_classes=7).to(device)\n",
    "print(model)"
   ]
  },
  {
   "cell_type": "code",
   "execution_count": 11,
   "metadata": {},
   "outputs": [],
   "source": [
    "learning_rate = 0.02\n",
    "optimizer = SGD(model.parameters(), lr=learning_rate, momentum=0.9)\n",
    "criterion = CrossEntropyLoss()\n",
    "\n",
    "trainer = MLPTrainer(model=model, criterion=criterion, optimizer=optimizer, device=device)\n",
    "\n",
    "# Epochs\n",
    "num_epochs = 10"
   ]
  },
  {
   "cell_type": "code",
   "execution_count": 12,
   "metadata": {},
   "outputs": [
    {
     "name": "stderr",
     "output_type": "stream",
     "text": [
      "Training Progress: 100%|██████████| 10/10 [22:19<00:00, 133.99s/it, Train_loss=0.006462988214438501, Val_Loss=0.00589212082950145] \n"
     ]
    }
   ],
   "source": [
    "trainer.train(train_loader=train_loader, val_loader=valid_loader, num_epochs=10)"
   ]
  },
  {
   "cell_type": "code",
   "execution_count": 13,
   "metadata": {},
   "outputs": [],
   "source": [
    "history = trainer.get_history()"
   ]
  },
  {
   "cell_type": "code",
   "execution_count": 14,
   "metadata": {},
   "outputs": [
    {
     "data": {
      "text/plain": [
       "[0.024557220118894947,\n",
       " 0.011271899969274753,\n",
       " 0.009555980637813028,\n",
       " 0.008488899869633455,\n",
       " 0.007857893167621163,\n",
       " 0.007431069303802219,\n",
       " 0.00703646282752457,\n",
       " 0.006811035751721036,\n",
       " 0.006638535568876291,\n",
       " 0.006462988214438501]"
      ]
     },
     "execution_count": 14,
     "metadata": {},
     "output_type": "execute_result"
    }
   ],
   "source": [
    "history['train_loss']"
   ]
  },
  {
   "cell_type": "code",
   "execution_count": 15,
   "metadata": {},
   "outputs": [
    {
     "data": {
      "text/plain": [
       "[<matplotlib.lines.Line2D at 0x7f92365e1a30>]"
      ]
     },
     "execution_count": 15,
     "metadata": {},
     "output_type": "execute_result"
    },
    {
     "data": {
      "image/png": "[encoded data removed]",
      "text/plain": [
       "<Figure size 640x480 with 1 Axes>"
      ]
     },
     "metadata": {},
     "output_type": "display_data"
    }
   ],
   "source": [
    "plt.plot(history['train_loss'])\n",
    "plt.plot(history['val_loss'])"
   ]
  },
  {
   "cell_type": "code",
   "execution_count": 16,
   "metadata": {},
   "outputs": [
    {
     "name": "stdout",
     "output_type": "stream",
     "text": [
      "0 {'precision': 0.9988924642547545, 'recall': 0.9991607324308546, 'f1-score': 0.9990265803333205, 'support': 1221303.0}\n",
      "1 {'precision': 0.8727272727272727, 'recall': 0.411663807890223, 'f1-score': 0.5594405594405595, 'support': 1166.0}\n",
      "2 {'precision': 0.9957022856026567, 'recall': 0.9935672514619883, 'f1-score': 0.9946336227924676, 'support': 5130.0}\n",
      "3 {'precision': 0.9984270587561264, 'recall': 0.9975749501719912, 'f1-score': 0.99800082257821, 'support': 192161.0}\n",
      "4 {'precision': 1.0, 'recall': 0.2727272727272727, 'f1-score': 0.42857142857142855, 'support': 22.0}\n",
      "5 {'precision': 0.9825922638646319, 'recall': 0.9981386150132333, 'f1-score': 0.9903044293752705, 'support': 34383.0}\n",
      "6 {'precision': 0.9245439469320066, 'recall': 0.8772619984264359, 'f1-score': 0.9002825999192572, 'support': 1271.0}\n",
      "accuracy 0.9983194039449347\n",
      "macro avg {'precision': 0.9675550417339213, 'recall': 0.7928706611602855, 'f1-score': 0.8386085775729305, 'support': 1455436.0}\n",
      "weighted avg {'precision': 0.9982687134298659, 'recall': 0.9983194039449347, 'f1-score': 0.9982225936672213, 'support': 1455436.0}\n"
     ]
    }
   ],
   "source": [
    "for key, val in history['train_cr'][-1].items():\n",
    "  print(key, val)"
   ]
  },
  {
   "cell_type": "markdown",
   "metadata": {},
   "source": [
    "## Load Trained Model"
   ]
  },
  {
   "cell_type": "code",
   "execution_count": 90,
   "metadata": {},
   "outputs": [],
   "source": [
    "torch.save(model.state_dict(), '../trained_models/base_mlp_model_49_64_64_7.pth')"
   ]
  },
  {
   "cell_type": "code",
   "execution_count": 91,
   "metadata": {},
   "outputs": [
    {
     "data": {
      "text/plain": [
       "MLP(\n",
       "  (fc1): Linear(in_features=49, out_features=64, bias=True)\n",
       "  (relu1): ReLU()\n",
       "  (fc2): Linear(in_features=64, out_features=64, bias=True)\n",
       "  (relu2): ReLU()\n",
       "  (fc3): Linear(in_features=64, out_features=7, bias=True)\n",
       ")"
      ]
     },
     "execution_count": 91,
     "metadata": {},
     "output_type": "execute_result"
    }
   ],
   "source": [
    "# Load the saved model state\n",
    "model = MLP(num_features=49, hidden1_size=64, hidden2_size=64, num_classes=7)\n",
    "model.load_state_dict(torch.load('../trained_models/base_mlp_model_49_64_64_7.pth'))\n",
    "model.eval()"
   ]
  },
  {
   "cell_type": "code",
   "execution_count": 92,
   "metadata": {},
   "outputs": [],
   "source": [
    "y_preds = []\n",
    "y_trues = []\n",
    "\n",
    "with torch.no_grad():\n",
    "  for inputs, labels in test_loader:\n",
    "    outputs = model(inputs)\n",
    "    \n",
    "    # get metrics\n",
    "    y_preds += outputs.argmax(axis=1).tolist()\n",
    "    y_trues += labels.tolist()\n",
    "\n",
    "y_preds_tensor = torch.tensor(y_preds)\n",
    "y_trues_tensor = torch.tensor(y_trues)\n",
    "y_trues_tensor = torch.flatten(y_trues_tensor)"
   ]
  },
  {
   "cell_type": "code",
   "execution_count": 94,
   "metadata": {},
   "outputs": [
    {
     "data": {
      "text/plain": [
       "99.8414933681488"
      ]
     },
     "execution_count": 94,
     "metadata": {},
     "output_type": "execute_result"
    }
   ],
   "source": [
    "# Calculate accuracy\n",
    "accuracy = (y_preds_tensor == y_trues_tensor).float().mean().item() * 100\n",
    "accuracy"
   ]
  },
  {
   "cell_type": "markdown",
   "metadata": {},
   "source": [
    "View data"
   ]
  },
  {
   "cell_type": "code",
   "execution_count": 2,
   "metadata": {},
   "outputs": [],
   "source": [
    "train_data, _, _ = get_dataset()"
   ]
  },
  {
   "cell_type": "code",
   "execution_count": 10,
   "metadata": {},
   "outputs": [
    {
     "data": {
      "text/html": [
       "<div>\n",
       "<style scoped>\n",
       "    .dataframe tbody tr th:only-of-type {\n",
       "        vertical-align: middle;\n",
       "    }\n",
       "\n",
       "    .dataframe tbody tr th {\n",
       "        vertical-align: top;\n",
       "    }\n",
       "\n",
       "    .dataframe thead th {\n",
       "        text-align: right;\n",
       "    }\n",
       "</style>\n",
       "<table border=\"1\" class=\"dataframe\">\n",
       "  <thead>\n",
       "    <tr style=\"text-align: right;\">\n",
       "      <th></th>\n",
       "      <th>destination_port</th>\n",
       "      <th>fwd_packet_length_max</th>\n",
       "      <th>fwd_packet_length_min</th>\n",
       "      <th>fwd_packet_length_std</th>\n",
       "      <th>bwd_packet_length_min</th>\n",
       "      <th>bwd_packet_length_std</th>\n",
       "      <th>flow_bytes_s</th>\n",
       "      <th>flow_iat_mean</th>\n",
       "      <th>flow_iat_std</th>\n",
       "      <th>flow_iat_min</th>\n",
       "      <th>...</th>\n",
       "      <th>init_win_bytes_backward</th>\n",
       "      <th>act_data_pkt_fwd</th>\n",
       "      <th>min_seg_size_forward</th>\n",
       "      <th>active_mean</th>\n",
       "      <th>active_std</th>\n",
       "      <th>active_max</th>\n",
       "      <th>active_min</th>\n",
       "      <th>idle_std</th>\n",
       "      <th>idle_max</th>\n",
       "      <th>idle_min</th>\n",
       "    </tr>\n",
       "  </thead>\n",
       "  <tbody>\n",
       "    <tr>\n",
       "      <th>count</th>\n",
       "      <td>1.455436e+06</td>\n",
       "      <td>1.455436e+06</td>\n",
       "      <td>1.455436e+06</td>\n",
       "      <td>1.455436e+06</td>\n",
       "      <td>1.455436e+06</td>\n",
       "      <td>1.455436e+06</td>\n",
       "      <td>1.455436e+06</td>\n",
       "      <td>1.455436e+06</td>\n",
       "      <td>1.455436e+06</td>\n",
       "      <td>1.455436e+06</td>\n",
       "      <td>...</td>\n",
       "      <td>1.455436e+06</td>\n",
       "      <td>1.455436e+06</td>\n",
       "      <td>1.455436e+06</td>\n",
       "      <td>1.455436e+06</td>\n",
       "      <td>1.455436e+06</td>\n",
       "      <td>1.455436e+06</td>\n",
       "      <td>1.455436e+06</td>\n",
       "      <td>1.455436e+06</td>\n",
       "      <td>1.455436e+06</td>\n",
       "      <td>1.455436e+06</td>\n",
       "    </tr>\n",
       "    <tr>\n",
       "      <th>mean</th>\n",
       "      <td>4.951610e-01</td>\n",
       "      <td>4.956638e-01</td>\n",
       "      <td>3.849144e-01</td>\n",
       "      <td>3.195197e-01</td>\n",
       "      <td>3.644973e-01</td>\n",
       "      <td>2.750863e-01</td>\n",
       "      <td>4.953294e-01</td>\n",
       "      <td>5.050034e-01</td>\n",
       "      <td>4.572275e-01</td>\n",
       "      <td>5.031677e-01</td>\n",
       "      <td>...</td>\n",
       "      <td>3.844423e-01</td>\n",
       "      <td>4.515377e-01</td>\n",
       "      <td>4.987845e-01</td>\n",
       "      <td>2.037090e-01</td>\n",
       "      <td>8.087351e-02</td>\n",
       "      <td>2.039952e-01</td>\n",
       "      <td>2.037888e-01</td>\n",
       "      <td>8.954977e-02</td>\n",
       "      <td>2.054445e-01</td>\n",
       "      <td>2.056252e-01</td>\n",
       "    </tr>\n",
       "    <tr>\n",
       "      <th>std</th>\n",
       "      <td>2.806566e-01</td>\n",
       "      <td>3.003694e-01</td>\n",
       "      <td>3.864555e-01</td>\n",
       "      <td>3.985830e-01</td>\n",
       "      <td>3.920244e-01</td>\n",
       "      <td>3.950133e-01</td>\n",
       "      <td>2.882618e-01</td>\n",
       "      <td>2.885712e-01</td>\n",
       "      <td>3.428685e-01</td>\n",
       "      <td>2.854942e-01</td>\n",
       "      <td>...</td>\n",
       "      <td>3.839501e-01</td>\n",
       "      <td>3.396251e-01</td>\n",
       "      <td>2.559841e-01</td>\n",
       "      <td>3.736536e-01</td>\n",
       "      <td>2.664370e-01</td>\n",
       "      <td>3.742390e-01</td>\n",
       "      <td>3.738930e-01</td>\n",
       "      <td>2.778555e-01</td>\n",
       "      <td>3.734963e-01</td>\n",
       "      <td>3.737565e-01</td>\n",
       "    </tr>\n",
       "    <tr>\n",
       "      <th>min</th>\n",
       "      <td>0.000000e+00</td>\n",
       "      <td>0.000000e+00</td>\n",
       "      <td>0.000000e+00</td>\n",
       "      <td>0.000000e+00</td>\n",
       "      <td>0.000000e+00</td>\n",
       "      <td>0.000000e+00</td>\n",
       "      <td>0.000000e+00</td>\n",
       "      <td>0.000000e+00</td>\n",
       "      <td>0.000000e+00</td>\n",
       "      <td>0.000000e+00</td>\n",
       "      <td>...</td>\n",
       "      <td>0.000000e+00</td>\n",
       "      <td>0.000000e+00</td>\n",
       "      <td>0.000000e+00</td>\n",
       "      <td>0.000000e+00</td>\n",
       "      <td>0.000000e+00</td>\n",
       "      <td>0.000000e+00</td>\n",
       "      <td>0.000000e+00</td>\n",
       "      <td>0.000000e+00</td>\n",
       "      <td>0.000000e+00</td>\n",
       "      <td>0.000000e+00</td>\n",
       "    </tr>\n",
       "    <tr>\n",
       "      <th>25%</th>\n",
       "      <td>1.781782e-01</td>\n",
       "      <td>2.167167e-01</td>\n",
       "      <td>0.000000e+00</td>\n",
       "      <td>0.000000e+00</td>\n",
       "      <td>0.000000e+00</td>\n",
       "      <td>0.000000e+00</td>\n",
       "      <td>2.398276e-01</td>\n",
       "      <td>2.562563e-01</td>\n",
       "      <td>0.000000e+00</td>\n",
       "      <td>3.518519e-01</td>\n",
       "      <td>...</td>\n",
       "      <td>0.000000e+00</td>\n",
       "      <td>0.000000e+00</td>\n",
       "      <td>2.612613e-01</td>\n",
       "      <td>0.000000e+00</td>\n",
       "      <td>0.000000e+00</td>\n",
       "      <td>0.000000e+00</td>\n",
       "      <td>0.000000e+00</td>\n",
       "      <td>0.000000e+00</td>\n",
       "      <td>0.000000e+00</td>\n",
       "      <td>0.000000e+00</td>\n",
       "    </tr>\n",
       "    <tr>\n",
       "      <th>50%</th>\n",
       "      <td>4.569570e-01</td>\n",
       "      <td>5.080080e-01</td>\n",
       "      <td>4.939940e-01</td>\n",
       "      <td>0.000000e+00</td>\n",
       "      <td>0.000000e+00</td>\n",
       "      <td>0.000000e+00</td>\n",
       "      <td>4.928396e-01</td>\n",
       "      <td>5.074921e-01</td>\n",
       "      <td>5.013056e-01</td>\n",
       "      <td>4.984985e-01</td>\n",
       "      <td>...</td>\n",
       "      <td>5.080080e-01</td>\n",
       "      <td>4.809810e-01</td>\n",
       "      <td>2.612613e-01</td>\n",
       "      <td>0.000000e+00</td>\n",
       "      <td>0.000000e+00</td>\n",
       "      <td>0.000000e+00</td>\n",
       "      <td>0.000000e+00</td>\n",
       "      <td>0.000000e+00</td>\n",
       "      <td>0.000000e+00</td>\n",
       "      <td>0.000000e+00</td>\n",
       "    </tr>\n",
       "    <tr>\n",
       "      <th>75%</th>\n",
       "      <td>6.811812e-01</td>\n",
       "      <td>7.495921e-01</td>\n",
       "      <td>7.552553e-01</td>\n",
       "      <td>7.502503e-01</td>\n",
       "      <td>7.507508e-01</td>\n",
       "      <td>7.467157e-01</td>\n",
       "      <td>7.457624e-01</td>\n",
       "      <td>7.560932e-01</td>\n",
       "      <td>7.537556e-01</td>\n",
       "      <td>7.512513e-01</td>\n",
       "      <td>...</td>\n",
       "      <td>7.302302e-01</td>\n",
       "      <td>7.677678e-01</td>\n",
       "      <td>7.557558e-01</td>\n",
       "      <td>0.000000e+00</td>\n",
       "      <td>0.000000e+00</td>\n",
       "      <td>0.000000e+00</td>\n",
       "      <td>0.000000e+00</td>\n",
       "      <td>0.000000e+00</td>\n",
       "      <td>0.000000e+00</td>\n",
       "      <td>0.000000e+00</td>\n",
       "    </tr>\n",
       "    <tr>\n",
       "      <th>max</th>\n",
       "      <td>1.000000e+00</td>\n",
       "      <td>1.000000e+00</td>\n",
       "      <td>1.000000e+00</td>\n",
       "      <td>1.000000e+00</td>\n",
       "      <td>1.000000e+00</td>\n",
       "      <td>1.000000e+00</td>\n",
       "      <td>1.000000e+00</td>\n",
       "      <td>1.000000e+00</td>\n",
       "      <td>1.000000e+00</td>\n",
       "      <td>1.000000e+00</td>\n",
       "      <td>...</td>\n",
       "      <td>1.000000e+00</td>\n",
       "      <td>1.000000e+00</td>\n",
       "      <td>1.000000e+00</td>\n",
       "      <td>1.000000e+00</td>\n",
       "      <td>1.000000e+00</td>\n",
       "      <td>1.000000e+00</td>\n",
       "      <td>1.000000e+00</td>\n",
       "      <td>1.000000e+00</td>\n",
       "      <td>1.000000e+00</td>\n",
       "      <td>1.000000e+00</td>\n",
       "    </tr>\n",
       "  </tbody>\n",
       "</table>\n",
       "<p>8 rows × 49 columns</p>\n",
       "</div>"
      ],
      "text/plain": [
       "       destination_port  fwd_packet_length_max  fwd_packet_length_min  \\\n",
       "count      1.455436e+06           1.455436e+06           1.455436e+06   \n",
       "mean       4.951610e-01           4.956638e-01           3.849144e-01   \n",
       "std        2.806566e-01           3.003694e-01           3.864555e-01   \n",
       "min        0.000000e+00           0.000000e+00           0.000000e+00   \n",
       "25%        1.781782e-01           2.167167e-01           0.000000e+00   \n",
       "50%        4.569570e-01           5.080080e-01           4.939940e-01   \n",
       "75%        6.811812e-01           7.495921e-01           7.552553e-01   \n",
       "max        1.000000e+00           1.000000e+00           1.000000e+00   \n",
       "\n",
       "       fwd_packet_length_std  bwd_packet_length_min  bwd_packet_length_std  \\\n",
       "count           1.455436e+06           1.455436e+06           1.455436e+06   \n",
       "mean            3.195197e-01           3.644973e-01           2.750863e-01   \n",
       "std             3.985830e-01           3.920244e-01           3.950133e-01   \n",
       "min             0.000000e+00           0.000000e+00           0.000000e+00   \n",
       "25%             0.000000e+00           0.000000e+00           0.000000e+00   \n",
       "50%             0.000000e+00           0.000000e+00           0.000000e+00   \n",
       "75%             7.502503e-01           7.507508e-01           7.467157e-01   \n",
       "max             1.000000e+00           1.000000e+00           1.000000e+00   \n",
       "\n",
       "       flow_bytes_s  flow_iat_mean  flow_iat_std  flow_iat_min  ...  \\\n",
       "count  1.455436e+06   1.455436e+06  1.455436e+06  1.455436e+06  ...   \n",
       "mean   4.953294e-01   5.050034e-01  4.572275e-01  5.031677e-01  ...   \n",
       "std    2.882618e-01   2.885712e-01  3.428685e-01  2.854942e-01  ...   \n",
       "min    0.000000e+00   0.000000e+00  0.000000e+00  0.000000e+00  ...   \n",
       "25%    2.398276e-01   2.562563e-01  0.000000e+00  3.518519e-01  ...   \n",
       "50%    4.928396e-01   5.074921e-01  5.013056e-01  4.984985e-01  ...   \n",
       "75%    7.457624e-01   7.560932e-01  7.537556e-01  7.512513e-01  ...   \n",
       "max    1.000000e+00   1.000000e+00  1.000000e+00  1.000000e+00  ...   \n",
       "\n",
       "       init_win_bytes_backward  act_data_pkt_fwd  min_seg_size_forward  \\\n",
       "count             1.455436e+06      1.455436e+06          1.455436e+06   \n",
       "mean              3.844423e-01      4.515377e-01          4.987845e-01   \n",
       "std               3.839501e-01      3.396251e-01          2.559841e-01   \n",
       "min               0.000000e+00      0.000000e+00          0.000000e+00   \n",
       "25%               0.000000e+00      0.000000e+00          2.612613e-01   \n",
       "50%               5.080080e-01      4.809810e-01          2.612613e-01   \n",
       "75%               7.302302e-01      7.677678e-01          7.557558e-01   \n",
       "max               1.000000e+00      1.000000e+00          1.000000e+00   \n",
       "\n",
       "        active_mean    active_std    active_max    active_min      idle_std  \\\n",
       "count  1.455436e+06  1.455436e+06  1.455436e+06  1.455436e+06  1.455436e+06   \n",
       "mean   2.037090e-01  8.087351e-02  2.039952e-01  2.037888e-01  8.954977e-02   \n",
       "std    3.736536e-01  2.664370e-01  3.742390e-01  3.738930e-01  2.778555e-01   \n",
       "min    0.000000e+00  0.000000e+00  0.000000e+00  0.000000e+00  0.000000e+00   \n",
       "25%    0.000000e+00  0.000000e+00  0.000000e+00  0.000000e+00  0.000000e+00   \n",
       "50%    0.000000e+00  0.000000e+00  0.000000e+00  0.000000e+00  0.000000e+00   \n",
       "75%    0.000000e+00  0.000000e+00  0.000000e+00  0.000000e+00  0.000000e+00   \n",
       "max    1.000000e+00  1.000000e+00  1.000000e+00  1.000000e+00  1.000000e+00   \n",
       "\n",
       "           idle_max      idle_min  \n",
       "count  1.455436e+06  1.455436e+06  \n",
       "mean   2.054445e-01  2.056252e-01  \n",
       "std    3.734963e-01  3.737565e-01  \n",
       "min    0.000000e+00  0.000000e+00  \n",
       "25%    0.000000e+00  0.000000e+00  \n",
       "50%    0.000000e+00  0.000000e+00  \n",
       "75%    0.000000e+00  0.000000e+00  \n",
       "max    1.000000e+00  1.000000e+00  \n",
       "\n",
       "[8 rows x 49 columns]"
      ]
     },
     "execution_count": 10,
     "metadata": {},
     "output_type": "execute_result"
    }
   ],
   "source": [
    "train_data.features.describe()"
   ]
  },
  {
   "cell_type": "code",
   "execution_count": null,
   "metadata": {},
   "outputs": [],
   "source": []
  }
 ],
 "metadata": {
  "kernelspec": {
   "display_name": "DF-ML",
   "language": "python",
   "name": "python3"
  },
  "language_info": {
   "codemirror_mode": {
    "name": "ipython",
    "version": 3
   },
   "file_extension": ".py",
   "mimetype": "text/x-python",
   "name": "python",
   "nbconvert_exporter": "python",
   "pygments_lexer": "ipython3",
   "version": "3.12.2"
  }
 },
 "nbformat": 4,
 "nbformat_minor": 2
}
