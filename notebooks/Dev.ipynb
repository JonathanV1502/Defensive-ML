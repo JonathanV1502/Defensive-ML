{
 "cells": [
  {
   "cell_type": "markdown",
   "metadata": {},
   "source": [
    "# Dev Notebook"
   ]
  },
  {
   "cell_type": "markdown",
   "metadata": {},
   "source": [
    "Baseline Model"
   ]
  },
  {
   "cell_type": "code",
   "execution_count": 1,
   "metadata": {},
   "outputs": [
    {
     "name": "stdout",
     "output_type": "stream",
     "text": [
      "Device: cpu\n"
     ]
    }
   ],
   "source": [
    "import sys\n",
    "sys.path.append('../src')\n",
    "\n",
    "import torch\n",
    "import torch.nn as nn\n",
    "from torch.nn import CrossEntropyLoss\n",
    "from torch.optim import SGD\n",
    "\n",
    "from Models import MLP\n",
    "from dataset import load_data\n",
    "from Trainer import MLPTrainer\n",
    "\n",
    "import matplotlib.pyplot as plt\n",
    "\n",
    "device = torch.device(\"cuda\" if torch.cuda.is_available() else \"cpu\")\n",
    "device = 'cpu'\n",
    "print(f\"Device: {device}\")"
   ]
  },
  {
   "cell_type": "code",
   "execution_count": 2,
   "metadata": {},
   "outputs": [],
   "source": [
    "train_loader, valid_loader, test_loader = load_data(batch_size=64)"
   ]
  },
  {
   "cell_type": "code",
   "execution_count": 3,
   "metadata": {},
   "outputs": [
    {
     "name": "stdout",
     "output_type": "stream",
     "text": [
      "MLP(\n",
      "  (fc1): Linear(in_features=49, out_features=64, bias=True)\n",
      "  (relu1): ReLU()\n",
      "  (fc2): Linear(in_features=64, out_features=64, bias=True)\n",
      "  (relu2): ReLU()\n",
      "  (fc3): Linear(in_features=64, out_features=7, bias=True)\n",
      ")\n"
     ]
    }
   ],
   "source": [
    "model = MLP(num_features=49, hidden1_size=64, hidden2_size=64, num_classes=7).to(device)\n",
    "print(model)"
   ]
  },
  {
   "cell_type": "code",
   "execution_count": 4,
   "metadata": {},
   "outputs": [],
   "source": [
    "learning_rate = 0.02\n",
    "optimizer = SGD(model.parameters(), lr=learning_rate, momentum=0.9)\n",
    "criterion = CrossEntropyLoss()\n",
    "\n",
    "trainer = MLPTrainer(model=model, criterion=criterion, optimizer=optimizer, device=device)\n",
    "\n",
    "# Epochs\n",
    "num_epochs = 10"
   ]
  },
  {
   "cell_type": "code",
   "execution_count": 5,
   "metadata": {},
   "outputs": [
    {
     "name": "stderr",
     "output_type": "stream",
     "text": [
      "Training Progress:   0%|          | 0/10 [00:00<?, ?it/s]/home/j_v609/my_code/Defensive-ML/notebooks/../src/dataset.py:29: FutureWarning: Series.__getitem__ treating keys as positions is deprecated. In a future version, integer keys will always be treated as labels (consistent with DataFrame behavior). To access a value by position, use `ser.iloc[pos]`\n",
      "  label = self.target_transform(label, dtype=torch.int64)\n",
      "/home/j_v609/my_code/Defensive-ML/notebooks/../src/dataset.py:29: FutureWarning: Series.__getitem__ treating keys as positions is deprecated. In a future version, integer keys will always be treated as labels (consistent with DataFrame behavior). To access a value by position, use `ser.iloc[pos]`\n",
      "  label = self.target_transform(label, dtype=torch.int64)\n",
      "Training Progress:  10%|█         | 1/10 [04:35<41:17, 275.29s/it, Train_loss=0.024887253283325028, Val_Loss=0.012197061884747906]/home/j_v609/my_code/Defensive-ML/notebooks/../src/dataset.py:29: FutureWarning: Series.__getitem__ treating keys as positions is deprecated. In a future version, integer keys will always be treated as labels (consistent with DataFrame behavior). To access a value by position, use `ser.iloc[pos]`\n",
      "  label = self.target_transform(label, dtype=torch.int64)\n",
      "/home/j_v609/my_code/Defensive-ML/notebooks/../src/dataset.py:29: FutureWarning: Series.__getitem__ treating keys as positions is deprecated. In a future version, integer keys will always be treated as labels (consistent with DataFrame behavior). To access a value by position, use `ser.iloc[pos]`\n",
      "  label = self.target_transform(label, dtype=torch.int64)\n",
      "Training Progress:  20%|██        | 2/10 [09:05<36:19, 272.40s/it, Train_loss=0.011394969985324795, Val_Loss=0.010063090340910937]/home/j_v609/my_code/Defensive-ML/notebooks/../src/dataset.py:29: FutureWarning: Series.__getitem__ treating keys as positions is deprecated. In a future version, integer keys will always be treated as labels (consistent with DataFrame behavior). To access a value by position, use `ser.iloc[pos]`\n",
      "  label = self.target_transform(label, dtype=torch.int64)\n",
      "/home/j_v609/my_code/Defensive-ML/notebooks/../src/dataset.py:29: FutureWarning: Series.__getitem__ treating keys as positions is deprecated. In a future version, integer keys will always be treated as labels (consistent with DataFrame behavior). To access a value by position, use `ser.iloc[pos]`\n",
      "  label = self.target_transform(label, dtype=torch.int64)\n",
      "Training Progress:  30%|███       | 3/10 [13:33<31:32, 270.37s/it, Train_loss=0.00974603600226027, Val_Loss=0.00892428183042655]  /home/j_v609/my_code/Defensive-ML/notebooks/../src/dataset.py:29: FutureWarning: Series.__getitem__ treating keys as positions is deprecated. In a future version, integer keys will always be treated as labels (consistent with DataFrame behavior). To access a value by position, use `ser.iloc[pos]`\n",
      "  label = self.target_transform(label, dtype=torch.int64)\n",
      "/home/j_v609/my_code/Defensive-ML/notebooks/../src/dataset.py:29: FutureWarning: Series.__getitem__ treating keys as positions is deprecated. In a future version, integer keys will always be treated as labels (consistent with DataFrame behavior). To access a value by position, use `ser.iloc[pos]`\n",
      "  label = self.target_transform(label, dtype=torch.int64)\n",
      "Training Progress:  40%|████      | 4/10 [18:00<26:54, 269.09s/it, Train_loss=0.00887907842521874, Val_Loss=0.008164242925173133]/home/j_v609/my_code/Defensive-ML/notebooks/../src/dataset.py:29: FutureWarning: Series.__getitem__ treating keys as positions is deprecated. In a future version, integer keys will always be treated as labels (consistent with DataFrame behavior). To access a value by position, use `ser.iloc[pos]`\n",
      "  label = self.target_transform(label, dtype=torch.int64)\n",
      "/home/j_v609/my_code/Defensive-ML/notebooks/../src/dataset.py:29: FutureWarning: Series.__getitem__ treating keys as positions is deprecated. In a future version, integer keys will always be treated as labels (consistent with DataFrame behavior). To access a value by position, use `ser.iloc[pos]`\n",
      "  label = self.target_transform(label, dtype=torch.int64)\n",
      "Training Progress:  50%|█████     | 5/10 [22:25<22:18, 267.65s/it, Train_loss=0.008137989179521117, Val_Loss=0.007471608220602277]/home/j_v609/my_code/Defensive-ML/notebooks/../src/dataset.py:29: FutureWarning: Series.__getitem__ treating keys as positions is deprecated. In a future version, integer keys will always be treated as labels (consistent with DataFrame behavior). To access a value by position, use `ser.iloc[pos]`\n",
      "  label = self.target_transform(label, dtype=torch.int64)\n",
      "/home/j_v609/my_code/Defensive-ML/notebooks/../src/dataset.py:29: FutureWarning: Series.__getitem__ treating keys as positions is deprecated. In a future version, integer keys will always be treated as labels (consistent with DataFrame behavior). To access a value by position, use `ser.iloc[pos]`\n",
      "  label = self.target_transform(label, dtype=torch.int64)\n",
      "Training Progress:  60%|██████    | 6/10 [26:50<17:47, 266.80s/it, Train_loss=0.007651708454369795, Val_Loss=0.007021465619392179]/home/j_v609/my_code/Defensive-ML/notebooks/../src/dataset.py:29: FutureWarning: Series.__getitem__ treating keys as positions is deprecated. In a future version, integer keys will always be treated as labels (consistent with DataFrame behavior). To access a value by position, use `ser.iloc[pos]`\n",
      "  label = self.target_transform(label, dtype=torch.int64)\n",
      "/home/j_v609/my_code/Defensive-ML/notebooks/../src/dataset.py:29: FutureWarning: Series.__getitem__ treating keys as positions is deprecated. In a future version, integer keys will always be treated as labels (consistent with DataFrame behavior). To access a value by position, use `ser.iloc[pos]`\n",
      "  label = self.target_transform(label, dtype=torch.int64)\n",
      "Training Progress:  70%|███████   | 7/10 [31:16<13:19, 266.35s/it, Train_loss=0.007346727887214373, Val_Loss=0.00687793272801763] /home/j_v609/my_code/Defensive-ML/notebooks/../src/dataset.py:29: FutureWarning: Series.__getitem__ treating keys as positions is deprecated. In a future version, integer keys will always be treated as labels (consistent with DataFrame behavior). To access a value by position, use `ser.iloc[pos]`\n",
      "  label = self.target_transform(label, dtype=torch.int64)\n",
      "/home/j_v609/my_code/Defensive-ML/notebooks/../src/dataset.py:29: FutureWarning: Series.__getitem__ treating keys as positions is deprecated. In a future version, integer keys will always be treated as labels (consistent with DataFrame behavior). To access a value by position, use `ser.iloc[pos]`\n",
      "  label = self.target_transform(label, dtype=torch.int64)\n",
      "Training Progress:  80%|████████  | 8/10 [35:41<08:51, 265.82s/it, Train_loss=0.007147961754310191, Val_Loss=0.006515142534785861]/home/j_v609/my_code/Defensive-ML/notebooks/../src/dataset.py:29: FutureWarning: Series.__getitem__ treating keys as positions is deprecated. In a future version, integer keys will always be treated as labels (consistent with DataFrame behavior). To access a value by position, use `ser.iloc[pos]`\n",
      "  label = self.target_transform(label, dtype=torch.int64)\n",
      "/home/j_v609/my_code/Defensive-ML/notebooks/../src/dataset.py:29: FutureWarning: Series.__getitem__ treating keys as positions is deprecated. In a future version, integer keys will always be treated as labels (consistent with DataFrame behavior). To access a value by position, use `ser.iloc[pos]`\n",
      "  label = self.target_transform(label, dtype=torch.int64)\n",
      "Training Progress:  90%|█████████ | 9/10 [40:04<04:25, 265.19s/it, Train_loss=0.006849382834894308, Val_Loss=0.00625644931178338] /home/j_v609/my_code/Defensive-ML/notebooks/../src/dataset.py:29: FutureWarning: Series.__getitem__ treating keys as positions is deprecated. In a future version, integer keys will always be treated as labels (consistent with DataFrame behavior). To access a value by position, use `ser.iloc[pos]`\n",
      "  label = self.target_transform(label, dtype=torch.int64)\n",
      "/home/j_v609/my_code/Defensive-ML/notebooks/../src/dataset.py:29: FutureWarning: Series.__getitem__ treating keys as positions is deprecated. In a future version, integer keys will always be treated as labels (consistent with DataFrame behavior). To access a value by position, use `ser.iloc[pos]`\n",
      "  label = self.target_transform(label, dtype=torch.int64)\n",
      "Training Progress: 100%|██████████| 10/10 [44:29<00:00, 266.95s/it, Train_loss=0.006583527561866151, Val_Loss=0.006021697835943262]\n"
     ]
    }
   ],
   "source": [
    "trainer.train(train_loader=train_loader, val_loader=valid_loader, num_epochs=10)"
   ]
  },
  {
   "cell_type": "code",
   "execution_count": 6,
   "metadata": {},
   "outputs": [],
   "source": [
    "history = trainer.get_history()"
   ]
  },
  {
   "cell_type": "code",
   "execution_count": 7,
   "metadata": {},
   "outputs": [
    {
     "data": {
      "text/plain": [
       "[0.024887253283325028,\n",
       " 0.011394969985324795,\n",
       " 0.00974603600226027,\n",
       " 0.00887907842521874,\n",
       " 0.008137989179521117,\n",
       " 0.007651708454369795,\n",
       " 0.007346727887214373,\n",
       " 0.007147961754310191,\n",
       " 0.006849382834894308,\n",
       " 0.006583527561866151]"
      ]
     },
     "execution_count": 7,
     "metadata": {},
     "output_type": "execute_result"
    }
   ],
   "source": [
    "history['train_loss']"
   ]
  },
  {
   "cell_type": "code",
   "execution_count": 9,
   "metadata": {},
   "outputs": [
    {
     "data": {
      "text/plain": [
       "[<matplotlib.lines.Line2D at 0x7f1d16694860>]"
      ]
     },
     "execution_count": 9,
     "metadata": {},
     "output_type": "execute_result"
    },
    {
     "data": {
      "image/png": "[encoded data removed]",
      "text/plain": [
       "<Figure size 640x480 with 1 Axes>"
      ]
     },
     "metadata": {},
     "output_type": "display_data"
    }
   ],
   "source": [
    "plt.plot(history['train_loss'])\n",
    "plt.plot(history['val_loss'])"
   ]
  },
  {
   "cell_type": "code",
   "execution_count": 12,
   "metadata": {},
   "outputs": [
    {
     "name": "stdout",
     "output_type": "stream",
     "text": [
      "0 {'precision': 0.9988555823514099, 'recall': 0.9990837654537817, 'f1-score': 0.9989696608722883, 'support': 1221303.0}\n",
      "1 {'precision': 0.826580226904376, 'recall': 0.43739279588336194, 'f1-score': 0.5720695457094784, 'support': 1166.0}\n",
      "2 {'precision': 0.9962883375659308, 'recall': 0.9941520467836257, 'f1-score': 0.995219045760562, 'support': 5130.0}\n",
      "3 {'precision': 0.9982501184815612, 'recall': 0.9974812787194072, 'f1-score': 0.9978655505057604, 'support': 192161.0}\n",
      "4 {'precision': 1.0, 'recall': 0.09090909090909091, 'f1-score': 0.16666666666666666, 'support': 22.0}\n",
      "5 {'precision': 0.9832965647652064, 'recall': 0.9981676991536516, 'f1-score': 0.9906763271079294, 'support': 34383.0}\n",
      "6 {'precision': 0.8791666666666667, 'recall': 0.8300550747442959, 'f1-score': 0.8539053014973695, 'support': 1271.0}\n",
      "accuracy 0.9982218386792686\n",
      "macro avg {'precision': 0.9546339281050216, 'recall': 0.763891678806745, 'f1-score': 0.796481728302865, 'support': 1455436.0}\n",
      "weighted avg {'precision': 0.998156510245726, 'recall': 0.9982218386792686, 'f1-score': 0.9981334782415143, 'support': 1455436.0}\n"
     ]
    }
   ],
   "source": [
    "for key, val in history['train_cr'][-1].items():\n",
    "  print(key, val)"
   ]
  }
 ],
 "metadata": {
  "kernelspec": {
   "display_name": "DF-ML",
   "language": "python",
   "name": "python3"
  },
  "language_info": {
   "codemirror_mode": {
    "name": "ipython",
    "version": 3
   },
   "file_extension": ".py",
   "mimetype": "text/x-python",
   "name": "python",
   "nbconvert_exporter": "python",
   "pygments_lexer": "ipython3",
   "version": "3.12.2"
  }
 },
 "nbformat": 4,
 "nbformat_minor": 2
}
