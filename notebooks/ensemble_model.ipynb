{
 "cells": [
  {
   "cell_type": "code",
   "execution_count": 24,
   "metadata": {},
   "outputs": [],
   "source": [
    "import sys\n",
    "import setproctitle\n",
    "sys.path.append('../src')\n",
    "\n",
    "import torch\n",
    "import torch.nn as nn\n",
    "from torch.nn import CrossEntropyLoss\n",
    "from torch.optim import SGD\n",
    "\n",
    "from Models import MLP\n",
    "from dataset import load_data, get_dataset\n",
    "from Trainer import MLPTrainer\n",
    "from sklearn import metrics\n",
    "from sklearn.metrics import recall_score\n",
    "import matplotlib.pyplot as plt\n"
   ]
  },
  {
   "cell_type": "code",
   "execution_count": 2,
   "metadata": {},
   "outputs": [
    {
     "data": {
      "text/plain": [
       "MLP(\n",
       "  (fc1): Linear(in_features=49, out_features=64, bias=True)\n",
       "  (relu1): ReLU()\n",
       "  (fc2): Linear(in_features=64, out_features=64, bias=True)\n",
       "  (relu2): ReLU()\n",
       "  (fc3): Linear(in_features=64, out_features=7, bias=True)\n",
       ")"
      ]
     },
     "execution_count": 2,
     "metadata": {},
     "output_type": "execute_result"
    }
   ],
   "source": [
    "# Load the saved model state\n",
    "model = MLP(num_features=49, hidden1_size=64, hidden2_size=64, num_classes=7)\n",
    "model.load_state_dict(torch.load('../trained_models/base_mlp_model_49_64_64_7.pth'))\n",
    "model.eval()"
   ]
  },
  {
   "cell_type": "code",
   "execution_count": 3,
   "metadata": {},
   "outputs": [],
   "source": [
    "_, _, test_loader = load_data(batch_size=64)"
   ]
  },
  {
   "cell_type": "code",
   "execution_count": 4,
   "metadata": {},
   "outputs": [],
   "source": [
    "y_preds = []\n",
    "y_trues = []\n",
    "\n",
    "with torch.no_grad():\n",
    "  for inputs, labels in test_loader:\n",
    "    outputs = model(inputs)\n",
    "    \n",
    "    # get metrics\n",
    "    y_preds += outputs.argmax(axis=1).tolist()\n",
    "    y_trues += labels.tolist()\n",
    "\n",
    "y_preds_tensor = torch.tensor(y_preds)\n",
    "y_trues_tensor = torch.tensor(y_trues)\n",
    "y_trues_tensor = torch.flatten(y_trues_tensor)"
   ]
  },
  {
   "cell_type": "code",
   "execution_count": 9,
   "metadata": {},
   "outputs": [
    {
     "data": {
      "text/plain": [
       "{'0': {'precision': 0.9988852549181374,\n",
       "  'recall': 0.9992606511673606,\n",
       "  'f1-score': 0.9990729177794723,\n",
       "  'support': 407115.0},\n",
       " '1': {'precision': 1.0,\n",
       "  'recall': 0.31155778894472363,\n",
       "  'f1-score': 0.47509578544061304,\n",
       "  'support': 398.0},\n",
       " '2': {'precision': 0.9934328358208955,\n",
       "  'recall': 0.9952153110047847,\n",
       "  'f1-score': 0.9943232745742456,\n",
       "  'support': 1672.0},\n",
       " '3': {'precision': 0.9985804317983277,\n",
       "  'recall': 0.9979888372673131,\n",
       "  'f1-score': 0.9982845468864526,\n",
       "  'support': 64142.0},\n",
       " '4': {'precision': 0.0, 'recall': 0.0, 'f1-score': 0.0, 'support': 8.0},\n",
       " '5': {'precision': 0.9824029126213593,\n",
       "  'recall': 0.9988542217521593,\n",
       "  'f1-score': 0.9905602657110393,\n",
       "  'support': 11346.0},\n",
       " '6': {'precision': 0.9771689497716894,\n",
       "  'recall': 0.9224137931034483,\n",
       "  'f1-score': 0.9490022172949002,\n",
       "  'support': 464.0},\n",
       " 'accuracy': 0.9984149068835091,\n",
       " 'macro avg': {'precision': 0.8500671978472013,\n",
       "  'recall': 0.7464700861771129,\n",
       "  'f1-score': 0.7723341439552461,\n",
       "  'support': 485145.0},\n",
       " 'weighted avg': {'precision': 0.9984043660208688,\n",
       "  'recall': 0.9984149068835091,\n",
       "  'f1-score': 0.9982590128094826,\n",
       "  'support': 485145.0}}"
      ]
     },
     "execution_count": 9,
     "metadata": {},
     "output_type": "execute_result"
    }
   ],
   "source": [
    "cr = metrics.classification_report(y_trues, y_preds, output_dict=True, zero_division=0.0)\n",
    "cr"
   ]
  },
  {
   "cell_type": "code",
   "execution_count": 11,
   "metadata": {},
   "outputs": [
    {
     "data": {
      "text/plain": [
       "dict_keys(['0', '1', '2', '3', '4', '5', '6', 'accuracy', 'macro avg', 'weighted avg'])"
      ]
     },
     "execution_count": 11,
     "metadata": {},
     "output_type": "execute_result"
    }
   ],
   "source": [
    "cr.keys()"
   ]
  },
  {
   "cell_type": "code",
   "execution_count": 12,
   "metadata": {},
   "outputs": [
    {
     "data": {
      "text/plain": [
       "{'precision': 0.9988852549181374,\n",
       " 'recall': 0.9992606511673606,\n",
       " 'f1-score': 0.9990729177794723,\n",
       " 'support': 407115.0}"
      ]
     },
     "execution_count": 12,
     "metadata": {},
     "output_type": "execute_result"
    }
   ],
   "source": [
    "cr['0']"
   ]
  },
  {
   "cell_type": "code",
   "execution_count": 13,
   "metadata": {},
   "outputs": [
    {
     "data": {
      "text/plain": [
       "{'precision': 1.0,\n",
       " 'recall': 0.31155778894472363,\n",
       " 'f1-score': 0.47509578544061304,\n",
       " 'support': 398.0}"
      ]
     },
     "execution_count": 13,
     "metadata": {},
     "output_type": "execute_result"
    }
   ],
   "source": [
    "cr['1']"
   ]
  },
  {
   "cell_type": "code",
   "execution_count": 14,
   "metadata": {},
   "outputs": [
    {
     "data": {
      "text/plain": [
       "{'precision': 0.9934328358208955,\n",
       " 'recall': 0.9952153110047847,\n",
       " 'f1-score': 0.9943232745742456,\n",
       " 'support': 1672.0}"
      ]
     },
     "execution_count": 14,
     "metadata": {},
     "output_type": "execute_result"
    }
   ],
   "source": [
    "cr['2']"
   ]
  },
  {
   "cell_type": "code",
   "execution_count": 15,
   "metadata": {},
   "outputs": [
    {
     "data": {
      "text/plain": [
       "{'precision': 0.9985804317983277,\n",
       " 'recall': 0.9979888372673131,\n",
       " 'f1-score': 0.9982845468864526,\n",
       " 'support': 64142.0}"
      ]
     },
     "execution_count": 15,
     "metadata": {},
     "output_type": "execute_result"
    }
   ],
   "source": [
    "cr['3']"
   ]
  },
  {
   "cell_type": "code",
   "execution_count": 16,
   "metadata": {},
   "outputs": [
    {
     "data": {
      "text/plain": [
       "{'precision': 0.0, 'recall': 0.0, 'f1-score': 0.0, 'support': 8.0}"
      ]
     },
     "execution_count": 16,
     "metadata": {},
     "output_type": "execute_result"
    }
   ],
   "source": [
    "cr['4'] # little support"
   ]
  },
  {
   "cell_type": "code",
   "execution_count": 17,
   "metadata": {},
   "outputs": [
    {
     "data": {
      "text/plain": [
       "{'precision': 0.9824029126213593,\n",
       " 'recall': 0.9988542217521593,\n",
       " 'f1-score': 0.9905602657110393,\n",
       " 'support': 11346.0}"
      ]
     },
     "execution_count": 17,
     "metadata": {},
     "output_type": "execute_result"
    }
   ],
   "source": [
    "cr['5'] "
   ]
  },
  {
   "cell_type": "code",
   "execution_count": 18,
   "metadata": {},
   "outputs": [
    {
     "data": {
      "text/plain": [
       "{'precision': 0.9771689497716894,\n",
       " 'recall': 0.9224137931034483,\n",
       " 'f1-score': 0.9490022172949002,\n",
       " 'support': 464.0}"
      ]
     },
     "execution_count": 18,
     "metadata": {},
     "output_type": "execute_result"
    }
   ],
   "source": [
    "cr['6'] "
   ]
  },
  {
   "cell_type": "markdown",
   "metadata": {},
   "source": [
    "## Ensemble model"
   ]
  },
  {
   "cell_type": "markdown",
   "metadata": {},
   "source": [
    "### Model 1"
   ]
  },
  {
   "cell_type": "code",
   "execution_count": 21,
   "metadata": {},
   "outputs": [
    {
     "data": {
      "text/plain": [
       "MLP(\n",
       "  (fc1): Linear(in_features=49, out_features=64, bias=True)\n",
       "  (relu1): ReLU()\n",
       "  (fc2): Linear(in_features=64, out_features=64, bias=True)\n",
       "  (relu2): ReLU()\n",
       "  (fc3): Linear(in_features=64, out_features=7, bias=True)\n",
       ")"
      ]
     },
     "execution_count": 21,
     "metadata": {},
     "output_type": "execute_result"
    }
   ],
   "source": [
    "model_1 = MLP(num_features=49, hidden1_size=64, hidden2_size=64, num_classes=7)\n",
    "model_1.load_state_dict(torch.load('../trained_models/ensemble_model/mlp_model_split1.pth'))\n",
    "model_1.eval()"
   ]
  },
  {
   "cell_type": "code",
   "execution_count": 23,
   "metadata": {},
   "outputs": [],
   "source": [
    "# Check preformace \n",
    "y_preds = []\n",
    "y_trues = []\n",
    "\n",
    "with torch.no_grad():\n",
    "  for inputs, labels in test_loader:\n",
    "    outputs = model_1(inputs)\n",
    "    \n",
    "    # get metrics\n",
    "    y_preds += outputs.argmax(axis=1).tolist()\n",
    "    y_trues += labels.tolist()"
   ]
  },
  {
   "cell_type": "code",
   "execution_count": 28,
   "metadata": {},
   "outputs": [],
   "source": [
    "val_recall_per_class = recall_score(y_trues, y_preds, average=None) "
   ]
  },
  {
   "cell_type": "code",
   "execution_count": 29,
   "metadata": {},
   "outputs": [
    {
     "data": {
      "text/plain": [
       "array([0.99897572, 0.32160804, 0.98863636, 0.99767703, 0.        ,\n",
       "       0.9983254 , 0.85560345])"
      ]
     },
     "execution_count": 29,
     "metadata": {},
     "output_type": "execute_result"
    }
   ],
   "source": [
    "val_recall_per_class # Class 1 & 4 had little support"
   ]
  },
  {
   "cell_type": "markdown",
   "metadata": {},
   "source": [
    "### Model 2"
   ]
  },
  {
   "cell_type": "code",
   "execution_count": 34,
   "metadata": {},
   "outputs": [
    {
     "data": {
      "text/plain": [
       "MLP(\n",
       "  (fc1): Linear(in_features=49, out_features=64, bias=True)\n",
       "  (relu1): ReLU()\n",
       "  (fc2): Linear(in_features=64, out_features=64, bias=True)\n",
       "  (relu2): ReLU()\n",
       "  (fc3): Linear(in_features=64, out_features=7, bias=True)\n",
       ")"
      ]
     },
     "execution_count": 34,
     "metadata": {},
     "output_type": "execute_result"
    }
   ],
   "source": [
    "model_2 = MLP(num_features=49, hidden1_size=64, hidden2_size=64, num_classes=7)\n",
    "model_2.load_state_dict(torch.load('../trained_models/ensemble_model/mlp_model_split2.pth'))\n",
    "model_2.eval()"
   ]
  },
  {
   "cell_type": "code",
   "execution_count": 35,
   "metadata": {},
   "outputs": [],
   "source": [
    "# Check preformace \n",
    "y_preds = []\n",
    "y_trues = []\n",
    "\n",
    "with torch.no_grad():\n",
    "  for inputs, labels in test_loader:\n",
    "    outputs = model_2(inputs)\n",
    "    \n",
    "    # get metrics\n",
    "    y_preds += outputs.argmax(axis=1).tolist()\n",
    "    y_trues += labels.tolist()"
   ]
  },
  {
   "cell_type": "code",
   "execution_count": 36,
   "metadata": {},
   "outputs": [],
   "source": [
    "val_recall_per_class = recall_score(y_trues, y_preds, average=None) "
   ]
  },
  {
   "cell_type": "code",
   "execution_count": 37,
   "metadata": {},
   "outputs": [
    {
     "data": {
      "text/plain": [
       "array([0.99917222, 0.27889447, 0.99342105, 0.99773939, 0.        ,\n",
       "       0.99779658, 0.86853448])"
      ]
     },
     "execution_count": 37,
     "metadata": {},
     "output_type": "execute_result"
    }
   ],
   "source": [
    "val_recall_per_class # Class 1 & 4 had little support"
   ]
  },
  {
   "cell_type": "markdown",
   "metadata": {},
   "source": [
    "### Model 3"
   ]
  },
  {
   "cell_type": "code",
   "execution_count": 38,
   "metadata": {},
   "outputs": [
    {
     "data": {
      "text/plain": [
       "MLP(\n",
       "  (fc1): Linear(in_features=49, out_features=64, bias=True)\n",
       "  (relu1): ReLU()\n",
       "  (fc2): Linear(in_features=64, out_features=64, bias=True)\n",
       "  (relu2): ReLU()\n",
       "  (fc3): Linear(in_features=64, out_features=7, bias=True)\n",
       ")"
      ]
     },
     "execution_count": 38,
     "metadata": {},
     "output_type": "execute_result"
    }
   ],
   "source": [
    "model_3 = MLP(num_features=49, hidden1_size=64, hidden2_size=64, num_classes=7)\n",
    "model_3.load_state_dict(torch.load('../trained_models/ensemble_model/mlp_model_split3.pth'))\n",
    "model_3.eval()"
   ]
  },
  {
   "cell_type": "code",
   "execution_count": 39,
   "metadata": {},
   "outputs": [],
   "source": [
    "# Check preformace \n",
    "y_preds = []\n",
    "y_trues = []\n",
    "\n",
    "with torch.no_grad():\n",
    "  for inputs, labels in test_loader:\n",
    "    outputs = model_3(inputs)\n",
    "    \n",
    "    # get metrics\n",
    "    y_preds += outputs.argmax(axis=1).tolist()\n",
    "    y_trues += labels.tolist()"
   ]
  },
  {
   "cell_type": "code",
   "execution_count": 40,
   "metadata": {},
   "outputs": [],
   "source": [
    "val_recall_per_class = recall_score(y_trues, y_preds, average=None) "
   ]
  },
  {
   "cell_type": "code",
   "execution_count": 41,
   "metadata": {},
   "outputs": [
    {
     "data": {
      "text/plain": [
       "array([0.99900274, 0.56532663, 0.99521531, 0.99767703, 0.        ,\n",
       "       0.99753217, 0.86637931])"
      ]
     },
     "execution_count": 41,
     "metadata": {},
     "output_type": "execute_result"
    }
   ],
   "source": [
    "val_recall_per_class # Class 1 & 4 had little support"
   ]
  },
  {
   "cell_type": "markdown",
   "metadata": {},
   "source": [
    "## Ensemble"
   ]
  },
  {
   "cell_type": "code",
   "execution_count": 47,
   "metadata": {},
   "outputs": [],
   "source": [
    "def Emodel(inputs):\n",
    "  model_1 = MLP(num_features=49, hidden1_size=64, hidden2_size=64, num_classes=7)\n",
    "  model_1.load_state_dict(torch.load('../trained_models/ensemble_model/mlp_model_split3.pth'))\n",
    "  model_1.eval()\n",
    "\n",
    "  model_2 = MLP(num_features=49, hidden1_size=64, hidden2_size=64, num_classes=7)\n",
    "  model_2.load_state_dict(torch.load('../trained_models/ensemble_model/mlp_model_split3.pth'))\n",
    "  model_2.eval()\n",
    "\n",
    "  model_3 = MLP(num_features=49, hidden1_size=64, hidden2_size=64, num_classes=7)\n",
    "  model_3.load_state_dict(torch.load('../trained_models/ensemble_model/mlp_model_split3.pth'))\n",
    "  model_3.eval()\n",
    "\n",
    "  with torch.no_grad():\n",
    "    y1 = torch.argmax(model_1(inputs), dim=1)\n",
    "    y2 = torch.argmax(model_2(inputs), dim=1)\n",
    "    y3 = torch.argmax(model_3(inputs), dim=1)\n",
    "\n",
    "  stacked_tensors = torch.stack((y1, y2, y3))\n",
    "  preds, _ = torch.mode(stacked_tensors, dim=0)\n",
    "  \n",
    "  return preds\n",
    "    "
   ]
  },
  {
   "cell_type": "code",
   "execution_count": 49,
   "metadata": {},
   "outputs": [],
   "source": [
    "# Check preformace \n",
    "y_preds = []\n",
    "y_trues = []\n",
    "\n",
    "with torch.no_grad():\n",
    "  for inputs, labels in test_loader:\n",
    "    outputs = Emodel(inputs)\n",
    "    \n",
    "    # get metrics\n",
    "    y_preds += outputs.tolist()\n",
    "    y_trues += labels.tolist()"
   ]
  },
  {
   "cell_type": "code",
   "execution_count": 50,
   "metadata": {},
   "outputs": [],
   "source": [
    "val_recall_per_class = recall_score(y_trues, y_preds, average=None) "
   ]
  },
  {
   "cell_type": "code",
   "execution_count": 51,
   "metadata": {},
   "outputs": [
    {
     "data": {
      "text/plain": [
       "array([0.99900274, 0.56532663, 0.99521531, 0.99767703, 0.        ,\n",
       "       0.99753217, 0.86637931])"
      ]
     },
     "execution_count": 51,
     "metadata": {},
     "output_type": "execute_result"
    }
   ],
   "source": [
    "val_recall_per_class # Class 1 & 4 had little support"
   ]
  }
 ],
 "metadata": {
  "kernelspec": {
   "display_name": "DF-ML",
   "language": "python",
   "name": "python3"
  },
  "language_info": {
   "codemirror_mode": {
    "name": "ipython",
    "version": 3
   },
   "file_extension": ".py",
   "mimetype": "text/x-python",
   "name": "python",
   "nbconvert_exporter": "python",
   "pygments_lexer": "ipython3",
   "version": "3.12.2"
  }
 },
 "nbformat": 4,
 "nbformat_minor": 2
}
