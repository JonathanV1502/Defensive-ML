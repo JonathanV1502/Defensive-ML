{
  "nbformat": 4,
  "nbformat_minor": 0,
  "metadata": {
    "colab": {
      "provenance": []
    },
    "kernelspec": {
      "name": "python3",
      "display_name": "Python 3"
    },
    "language_info": {
      "name": "python"
    }
  },
  "cells": [
    {
      "cell_type": "code",
      "execution_count": 1,
      "metadata": {
        "id": "zdqw7AhJ-jxQ"
      },
      "outputs": [],
      "source": [
        "import torch\n",
        "import torch.nn as nn\n",
        "import torch.optim as optim\n",
        "from torchvision import datasets, transforms\n",
        "from torch.utils.data import DataLoader\n"
      ]
    },
    {
      "cell_type": "code",
      "source": [
        "device = torch.device('cuda' if torch.cuda.is_available() else 'cpu')\n",
        "print(f'Using device: {device}')\n"
      ],
      "metadata": {
        "colab": {
          "base_uri": "https://localhost:8080/"
        },
        "id": "Dm3BWtj8-rys",
        "outputId": "f1dc9799-22d4-46fb-c513-a2df324a3093"
      },
      "execution_count": 2,
      "outputs": [
        {
          "output_type": "stream",
          "name": "stdout",
          "text": [
            "Using device: cpu\n"
          ]
        }
      ]
    },
    {
      "cell_type": "code",
      "source": [
        "\n",
        "# Define the transformation to apply to the data\n",
        "transform = transforms.Compose([\n",
        "    transforms.ToTensor(),\n",
        "    #transforms.Normalize((0.5,), (0.5,)),\n",
        "    transforms.Lambda(lambda x: x.view(-1)),\n",
        "    #transforms.Lambda(lambda x: x/255.0),\n",
        "])\n"
      ],
      "metadata": {
        "id": "YvZuZ7lv-uN5"
      },
      "execution_count": 55,
      "outputs": []
    },
    {
      "cell_type": "code",
      "source": [
        "# Load the training dataset\n",
        "train_dataset = datasets.MNIST(root='./data', train=True, download=True, transform=transform)\n",
        "\n",
        "# Filter out images for digits 1 and 9\n",
        "idx_1 = train_dataset.targets == 1\n",
        "idx_9 = train_dataset.targets == 9\n",
        "idx = idx_1 | idx_9\n",
        "train_dataset.targets = train_dataset.targets[idx]\n",
        "train_dataset.data = train_dataset.data[idx]\n",
        "\n",
        "# Load the test dataset\n",
        "test_dataset = datasets.MNIST(root='./data', train=False, download=True, transform=transform)\n",
        "\n",
        "# Filter out images for digits 1 and 9\n",
        "idx_1 = test_dataset.targets == 1\n",
        "idx_9 = test_dataset.targets == 9\n",
        "idx = idx_1 | idx_9\n",
        "test_dataset.targets = test_dataset.targets[idx]\n",
        "test_dataset.data = test_dataset.data[idx]\n",
        "\n",
        "train_dataset.targets = torch.where(train_dataset.targets == 1, torch.tensor(1), torch.tensor(0))\n",
        "test_dataset.targets = torch.where(test_dataset.targets == 1, torch.tensor(1), torch.tensor(0))\n",
        "\n",
        "# Create data loaders\n",
        "train_loader = torch.utils.data.DataLoader(train_dataset, batch_size=64, shuffle=True)\n",
        "test_loader = torch.utils.data.DataLoader(test_dataset, batch_size=64, shuffle=False)\n",
        "\n"
      ],
      "metadata": {
        "id": "rnt6blAS-yVT"
      },
      "execution_count": 56,
      "outputs": []
    },
    {
      "cell_type": "code",
      "source": [
        "test_dataset.data.max(), test_dataset.data.min()"
      ],
      "metadata": {
        "colab": {
          "base_uri": "https://localhost:8080/"
        },
        "id": "gkBFxkOcGlXJ",
        "outputId": "45309e28-a1fe-4e43-ee96-d6b403485631"
      },
      "execution_count": 57,
      "outputs": [
        {
          "output_type": "execute_result",
          "data": {
            "text/plain": [
              "(tensor(255, dtype=torch.uint8), tensor(0, dtype=torch.uint8))"
            ]
          },
          "metadata": {},
          "execution_count": 57
        }
      ]
    },
    {
      "cell_type": "code",
      "source": [
        "for images, labels in train_loader:\n",
        "    # Print the shape of the data\n",
        "    print(\"Shape of images:\", images.shape)\n",
        "    print(\"Shape of labels:\", labels.shape)\n",
        "    break  # Exit the loop after the first batch"
      ],
      "metadata": {
        "colab": {
          "base_uri": "https://localhost:8080/"
        },
        "id": "30vH-h4o---0",
        "outputId": "be455335-7aa7-47a5-f28e-ed339c13b74d"
      },
      "execution_count": 58,
      "outputs": [
        {
          "output_type": "stream",
          "name": "stdout",
          "text": [
            "Shape of images: torch.Size([64, 784])\n",
            "Shape of labels: torch.Size([64])\n"
          ]
        }
      ]
    },
    {
      "cell_type": "code",
      "source": [
        "images.max(),images.min()"
      ],
      "metadata": {
        "colab": {
          "base_uri": "https://localhost:8080/"
        },
        "id": "NFFUH4kDHidF",
        "outputId": "25c8a160-a720-4617-9238-fb5730a61776"
      },
      "execution_count": 59,
      "outputs": [
        {
          "output_type": "execute_result",
          "data": {
            "text/plain": [
              "(tensor(1.), tensor(0.))"
            ]
          },
          "metadata": {},
          "execution_count": 59
        }
      ]
    },
    {
      "cell_type": "code",
      "source": [
        "train_dataset.targets.sum()/ len(train_dataset.targets)"
      ],
      "metadata": {
        "colab": {
          "base_uri": "https://localhost:8080/"
        },
        "id": "y1lzgZVM_Cgj",
        "outputId": "7e0f993f-e20d-4a27-de43-51089d6827f6"
      },
      "execution_count": 60,
      "outputs": [
        {
          "output_type": "execute_result",
          "data": {
            "text/plain": [
              "tensor(0.5312)"
            ]
          },
          "metadata": {},
          "execution_count": 60
        }
      ]
    },
    {
      "cell_type": "code",
      "source": [
        "test_dataset.targets"
      ],
      "metadata": {
        "colab": {
          "base_uri": "https://localhost:8080/"
        },
        "id": "YMpzC2V8_KMQ",
        "outputId": "ded2637e-4a21-4c0d-a283-af083407e72c"
      },
      "execution_count": 61,
      "outputs": [
        {
          "output_type": "execute_result",
          "data": {
            "text/plain": [
              "tensor([1, 1, 0,  ..., 1, 0, 1])"
            ]
          },
          "metadata": {},
          "execution_count": 61
        }
      ]
    },
    {
      "cell_type": "code",
      "source": [
        "# Define the MLP model\n",
        "import torch.nn.functional as F\n",
        "class MLP(nn.Module):\n",
        "    def __init__(self):\n",
        "        super(MLP, self).__init__()\n",
        "        self.fc1 = nn.Linear(28*28, 128)\n",
        "        self.relu = nn.ReLU()\n",
        "        self.fc2 = nn.Linear(128, 64)\n",
        "        self.fc3 = nn.Linear(64, 64)\n",
        "        self.fc4 = nn.Linear(64, 1)  # 10 output classes for digits 0-9\n",
        "\n",
        "    def forward(self, x):\n",
        "        x = self.fc1(x)\n",
        "        x = self.relu(x)\n",
        "        x = self.fc2(x)\n",
        "        x = self.relu(x)\n",
        "        x = self.fc3(x)\n",
        "        x = self.relu(x)\n",
        "        x = self.fc4(x)\n",
        "        return torch.sigmoid(x)\n",
        "\n",
        "# Create an instance of the model\n",
        "model = MLP()\n",
        "model.to(device)\n",
        "# Define the loss function and optimizer\n",
        "criterion = nn.BCELoss()\n",
        "optimizer = optim.Adam(model.parameters(), lr=0.005)\n",
        "\n"
      ],
      "metadata": {
        "id": "A3HYPut2_NqY"
      },
      "execution_count": 63,
      "outputs": []
    },
    {
      "cell_type": "code",
      "source": [
        "# Training loop\n",
        "num_epochs = 30\n",
        "for epoch in range(num_epochs):\n",
        "    model.train()  # Set the model to training mode\n",
        "    total_loss = 0.0\n",
        "    total_correct = 0\n",
        "    total_samples = 0\n",
        "    for batch_idx, (data, targets) in enumerate(train_loader):\n",
        "        data, targets = data.to(device), targets.to(device)\n",
        "        # Zero the gradients\n",
        "        optimizer.zero_grad()\n",
        "        # Forward pass\n",
        "        outputs = model(data)\n",
        "        # Calculate loss\n",
        "        loss = criterion(outputs.flatten(), targets.type(torch.float))\n",
        "        total_loss += loss.item()\n",
        "        # Calculate accuracy\n",
        "        predicted = outputs.int().flatten()\n",
        "        total_correct += (predicted == targets).sum().item()\n",
        "        total_samples += targets.size(0)\n",
        "        # Backward pass\n",
        "        loss.backward()\n",
        "        # Update weights\n",
        "        optimizer.step()\n",
        "\n",
        "        #if batch_idx % 100 == 0:\n",
        "            #print(f'Epoch {epoch+1}/{num_epochs}, Step {batch_idx}/{len(train_loader)}, Loss: {loss.item()}')\n",
        "\n",
        "    epoch_loss = total_loss / len(train_loader)\n",
        "    epoch_acc = total_correct / total_samples\n",
        "    print(f'Epoch {epoch+1}/{num_epochs}, Loss: {epoch_loss}, Accuracy: {epoch_acc}')\n"
      ],
      "metadata": {
        "colab": {
          "base_uri": "https://localhost:8080/"
        },
        "id": "Jqc0FRY-_RR8",
        "outputId": "d59c9835-80e7-41fc-a1de-e890ebd154bf"
      },
      "execution_count": 98,
      "outputs": [
        {
          "output_type": "stream",
          "name": "stdout",
          "text": [
            "Epoch 1/30, Loss: 5.7714584730440256e-08, Accuracy: 0.9991332440312032\n",
            "Epoch 2/30, Loss: 5.087529689270019e-08, Accuracy: 0.9991332440312032\n",
            "Epoch 3/30, Loss: 4.481449414395199e-08, Accuracy: 0.9991332440312032\n",
            "Epoch 4/30, Loss: 3.932458813378552e-08, Accuracy: 0.9991332440312032\n",
            "Epoch 5/30, Loss: 3.3889907962380724e-08, Accuracy: 0.9991332440312032\n",
            "Epoch 6/30, Loss: 2.9243880812163796e-08, Accuracy: 0.9991332440312032\n",
            "Epoch 7/30, Loss: 2.529993991953403e-08, Accuracy: 0.9991332440312032\n",
            "Epoch 8/30, Loss: 2.2078260238774877e-08, Accuracy: 0.9991332440312032\n",
            "Epoch 9/30, Loss: 1.9067888173897793e-08, Accuracy: 0.9991332440312032\n",
            "Epoch 10/30, Loss: 1.6451158016072983e-08, Accuracy: 0.9992908360255299\n",
            "Epoch 11/30, Loss: 1.4314203501939266e-08, Accuracy: 0.9992908360255299\n",
            "Epoch 12/30, Loss: 1.2460824324430763e-08, Accuracy: 0.9993696320226932\n",
            "Epoch 13/30, Loss: 1.0843256403168036e-08, Accuracy: 0.9993696320226932\n",
            "Epoch 14/30, Loss: 9.495342448375848e-09, Accuracy: 0.9994484280198566\n",
            "Epoch 15/30, Loss: 8.235042533328737e-09, Accuracy: 0.9994484280198566\n",
            "Epoch 16/30, Loss: 7.1926819647737955e-09, Accuracy: 0.9994484280198566\n",
            "Epoch 17/30, Loss: 6.2210229792128294e-09, Accuracy: 0.9994484280198566\n",
            "Epoch 18/30, Loss: 5.3436107818902194e-09, Accuracy: 0.9994484280198566\n",
            "Epoch 19/30, Loss: 4.574243047708867e-09, Accuracy: 0.9994484280198566\n",
            "Epoch 20/30, Loss: 3.927856445866014e-09, Accuracy: 0.99952722401702\n",
            "Epoch 21/30, Loss: 3.3713631107251973e-09, Accuracy: 0.99952722401702\n",
            "Epoch 22/30, Loss: 2.9096280158566766e-09, Accuracy: 0.99952722401702\n",
            "Epoch 23/30, Loss: 2.491858560644096e-09, Accuracy: 0.99952722401702\n",
            "Epoch 24/30, Loss: 2.1571008319926224e-09, Accuracy: 0.99952722401702\n",
            "Epoch 25/30, Loss: 1.8736424068746663e-09, Accuracy: 0.99952722401702\n",
            "Epoch 26/30, Loss: 1.6286665019737808e-09, Accuracy: 0.99952722401702\n",
            "Epoch 27/30, Loss: 1.4119954625676293e-09, Accuracy: 0.99952722401702\n",
            "Epoch 28/30, Loss: 1.2457962301586989e-09, Accuracy: 0.99952722401702\n",
            "Epoch 29/30, Loss: 1.1156683596978825e-09, Accuracy: 0.99952722401702\n",
            "Epoch 30/30, Loss: 9.836709705607335e-10, Accuracy: 0.99952722401702\n"
          ]
        }
      ]
    },
    {
      "cell_type": "code",
      "source": [
        "# Evaluate the model on the test set\n",
        "model.eval()\n",
        "correct = 0\n",
        "total = 0\n",
        "with torch.no_grad():\n",
        "    for data, targets in test_loader:\n",
        "        data, targets = data.to(device), targets.to(device)\n",
        "        outputs = model(data)\n",
        "        predicted = outputs.int().flatten()\n",
        "        correct += (predicted == targets).sum().item()\n",
        "        total += targets.size(0)\n",
        "        #correct += (predicted == targets).sum().item()\n",
        "\n",
        "print(f'Accuracy on the test set: {correct/total}')"
      ],
      "metadata": {
        "colab": {
          "base_uri": "https://localhost:8080/"
        },
        "id": "bJ1xYcJz_Yz8",
        "outputId": "6d3f8fc5-5807-4d19-a87e-abe3840dd8d3"
      },
      "execution_count": 99,
      "outputs": [
        {
          "output_type": "stream",
          "name": "stdout",
          "text": [
            "Accuracy on the test set: 0.9976679104477612\n"
          ]
        }
      ]
    },
    {
      "cell_type": "code",
      "source": [
        "from torch.utils.data import DataLoader\n",
        "\n",
        "\n",
        "def fgsm_attack(image, epsilon, data_grad):\n",
        "    \"\"\"\n",
        "    Function to perform the fast gradient sign method (FGSM) attack.\n",
        "    :param image: input image\n",
        "    :param epsilon: small constant for perturbation\n",
        "    :param data_grad: gradient of the data\n",
        "    :return: perturbed image\n",
        "    \"\"\"\n",
        "    # Collect the element-wise sign of the data gradient\n",
        "    sign_data_grad = data_grad.sign()\n",
        "    # Create the perturbed image by adjusting each pixel of the input image\n",
        "    perturbed_image = image + epsilon * sign_data_grad\n",
        "    # Adding clipping to maintain [0,1] range\n",
        "    perturbed_image = torch.clamp(perturbed_image, 0, 1)\n",
        "    # Return the perturbed image\n",
        "    return perturbed_image"
      ],
      "metadata": {
        "id": "bLVVRp0JBjgq"
      },
      "execution_count": 189,
      "outputs": []
    },
    {
      "cell_type": "code",
      "source": [
        "\n",
        "def test_model_with_fgsm(model, device, test_loader, epsilon):\n",
        "    \"\"\"\n",
        "    Function to test the model using adversarial examples created with FGSM.\n",
        "    :param model: the neural network\n",
        "    :param device: device to perform computation\n",
        "    :param test_loader: data loader for the test set\n",
        "    :param epsilon: epsilon for FGSM attack\n",
        "    \"\"\"\n",
        "    correct = 0\n",
        "    adv_examples = []\n",
        "    model.eval()  # Ensure the model is in evaluation mode\n",
        "    criterion = nn.BCELoss()  # Initialize BCE Loss\n",
        "\n",
        "    # Loop over all examples in the test set\n",
        "    for data, target in test_loader:\n",
        "        data, target = data.to(device), target.to(device)\n",
        "        target = target.float()  # Ensure target is float\n",
        "        data.requires_grad = True  # Enable gradient computation for the data\n",
        "\n",
        "        # Forward pass\n",
        "        output = model(data)\n",
        "\n",
        "\n",
        "\n",
        "\n",
        "        # Make sure the output and target have the same dimensions\n",
        "        if output.dim() == 2 and output.shape[1] == 1:\n",
        "            target = target.unsqueeze(1)\n",
        "            print(\"target\")\n",
        "            print(target.shape)\n",
        "            break\n",
        "\n",
        "\n",
        "\n",
        "        loss = criterion(output.flatten(), target)  # Calculate the binary cross entropy loss\n",
        "\n",
        "        # Zero all existing gradients\n",
        "        model.zero_grad()\n",
        "\n",
        "        # Calculate gradients of the model in the backward pass\n",
        "        loss.backward()\n",
        "\n",
        "        # Check if gradients are available\n",
        "        if data.grad is not None:\n",
        "            data_grad = data.grad.data\n",
        "            perturbed_data = fgsm_attack(data, epsilon, data_grad)\n",
        "            #print(f\"PD: {perturbed_data.shape }\")\n",
        "        else:\n",
        "            print(\"Gradient not available, skipping adversarial example generation.\")\n",
        "            continue  # Skip the rest of this loop iteration if gradients are not available\n",
        "\n",
        "        # Re-classify the perturbed data\n",
        "        output = model(perturbed_data)\n",
        "        #print(f\"OO: {output.shape}\")\n",
        "        final_pred =  output.int().flatten() #binarizing it\n",
        "\n",
        "\n",
        "        # Update the correct count\n",
        "        #print(final_pred)\n",
        "        #print(target)\n",
        "        correct += (final_pred == target).sum().item()  # Ensure dimension match for comparison\n",
        "        #print(f\"before{perturbed_data}\")\n",
        "        # Collect adversarial examples for visualization if needed\n",
        "        if len(adv_examples) < 5:\n",
        "            #print(f\"before adv_ex {adv_ex}\")\n",
        "            #adv_ex1 = perturbed_data[0].squeeze().detach().cpu().numpy()\n",
        "            #print(f\"after adv_ex {adv_ex}\")\n",
        "            adv_ex = perturbed_data[0].detach().cpu().numpy()\n",
        "\n",
        "            #adv_examples.append((output[0].item(), final_pred[0].item(), adv_ex))\n",
        "            adv_examples.append((target[0].item(), final_pred[0].item(), adv_ex))\n",
        "            #print(perturbed_data)\n",
        "            #print(adv_examples)\n",
        "\n",
        "    # Calculate the final accuracy\n",
        "    final_acc = correct / float(len(test_loader.dataset))\n",
        "    print(f'Epsilon: {epsilon}, Test Accuracy = {final_acc * 100:.2f}%')\n",
        "\n",
        "    return final_acc, adv_examples\n"
      ],
      "metadata": {
        "id": "WknRc4arB3So"
      },
      "execution_count": 195,
      "outputs": []
    },
    {
      "cell_type": "code",
      "source": [
        "device = torch.device(\"cuda\" if torch.cuda.is_available() else \"cpu\")\n",
        "model.eval()  # Set the model in evaluation mode\n",
        "\n",
        "# Example of testing the model with an epsilon value\n",
        "epsilon = 0.9  # Small enough to be imperceptible, large enough to cause misclassification\n",
        "test_accuracy, adversarial_examples = test_model_with_fgsm(model, device, test_loader, epsilon)\n"
      ],
      "metadata": {
        "colab": {
          "base_uri": "https://localhost:8080/",
          "height": 207
        },
        "id": "nbo8gPCECHRR",
        "outputId": "1c9ee2c8-f134-43e9-d331-eaee2db0657d"
      },
      "execution_count": 196,
      "outputs": [
        {
          "output_type": "error",
          "ename": "AttributeError",
          "evalue": "'ellipsis' object has no attribute 'eval'",
          "traceback": [
            "\u001b[0;31m---------------------------------------------------------------------------\u001b[0m",
            "\u001b[0;31mAttributeError\u001b[0m                            Traceback (most recent call last)",
            "\u001b[0;32m<ipython-input-196-93e2445f1fe1>\u001b[0m in \u001b[0;36m<cell line: 2>\u001b[0;34m()\u001b[0m\n\u001b[1;32m      1\u001b[0m \u001b[0mdevice\u001b[0m \u001b[0;34m=\u001b[0m \u001b[0mtorch\u001b[0m\u001b[0;34m.\u001b[0m\u001b[0mdevice\u001b[0m\u001b[0;34m(\u001b[0m\u001b[0;34m\"cuda\"\u001b[0m \u001b[0;32mif\u001b[0m \u001b[0mtorch\u001b[0m\u001b[0;34m.\u001b[0m\u001b[0mcuda\u001b[0m\u001b[0;34m.\u001b[0m\u001b[0mis_available\u001b[0m\u001b[0;34m(\u001b[0m\u001b[0;34m)\u001b[0m \u001b[0;32melse\u001b[0m \u001b[0;34m\"cpu\"\u001b[0m\u001b[0;34m)\u001b[0m\u001b[0;34m\u001b[0m\u001b[0;34m\u001b[0m\u001b[0m\n\u001b[0;32m----> 2\u001b[0;31m \u001b[0mmodel\u001b[0m\u001b[0;34m.\u001b[0m\u001b[0meval\u001b[0m\u001b[0;34m(\u001b[0m\u001b[0;34m)\u001b[0m  \u001b[0;31m# Set the model in evaluation mode\u001b[0m\u001b[0;34m\u001b[0m\u001b[0;34m\u001b[0m\u001b[0m\n\u001b[0m\u001b[1;32m      3\u001b[0m \u001b[0;34m\u001b[0m\u001b[0m\n\u001b[1;32m      4\u001b[0m \u001b[0;31m# Example of testing the model with an epsilon value\u001b[0m\u001b[0;34m\u001b[0m\u001b[0;34m\u001b[0m\u001b[0m\n\u001b[1;32m      5\u001b[0m \u001b[0mepsilon\u001b[0m \u001b[0;34m=\u001b[0m \u001b[0;36m0.9\u001b[0m  \u001b[0;31m# Small enough to be imperceptible, large enough to cause misclassification\u001b[0m\u001b[0;34m\u001b[0m\u001b[0;34m\u001b[0m\u001b[0m\n",
            "\u001b[0;31mAttributeError\u001b[0m: 'ellipsis' object has no attribute 'eval'"
          ]
        }
      ]
    },
    {
      "cell_type": "code",
      "source": [
        "y_true, y_pred, adv_image = adversarial_examples[0]\n",
        "y_true, y_pred"
      ],
      "metadata": {
        "colab": {
          "base_uri": "https://localhost:8080/"
        },
        "id": "H59hVJRQPTIZ",
        "outputId": "f99b174e-1a93-4229-c1bf-f4d5f0b9c7c7"
      },
      "execution_count": 180,
      "outputs": [
        {
          "output_type": "execute_result",
          "data": {
            "text/plain": [
              "(1.0, 1)"
            ]
          },
          "metadata": {},
          "execution_count": 180
        }
      ]
    },
    {
      "cell_type": "code",
      "source": [
        "import matplotlib.pyplot as plt\n",
        "\n",
        "plt.imshow(adv_image.reshape(28,28));"
      ],
      "metadata": {
        "colab": {
          "base_uri": "https://localhost:8080/",
          "height": 430
        },
        "id": "0dtdV6E-Z4MJ",
        "outputId": "35317509-ab72-4236-d970-be743633b7d0"
      },
      "execution_count": 181,
      "outputs": [
        {
          "output_type": "display_data",
          "data": {
            "text/plain": [
              "<Figure size 640x480 with 1 Axes>"
            ],
            "image/png": "[encoded data removed]"
          },
          "metadata": {}
        }
      ]
    },
    {
      "cell_type": "code",
      "source": [],
      "metadata": {
        "id": "mQ3WAcYXaJjO"
      },
      "execution_count": null,
      "outputs": []
    }
  ]
}