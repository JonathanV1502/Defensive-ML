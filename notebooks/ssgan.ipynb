{
 "cells": [
  {
   "cell_type": "markdown",
   "metadata": {},
   "source": [
    "# Semi-Supervised Learning with Generative Adversarial Networks"
   ]
  },
  {
   "cell_type": "code",
   "execution_count": 60,
   "metadata": {},
   "outputs": [],
   "source": [
    "import sys\n",
    "import setproctitle\n",
    "sys.path.append('../src')\n",
    "\n",
    "import torch\n",
    "import torch.nn as nn\n",
    "from torch.nn import CrossEntropyLoss\n",
    "from torch.optim import SGD\n",
    "import torch.optim as optim\n",
    "import numpy as np\n",
    "\n",
    "from dataset import load_data\n",
    "from sklearn.metrics import recall_score\n",
    "\n",
    "import matplotlib.pyplot as plt\n"
   ]
  },
  {
   "cell_type": "code",
   "execution_count": 61,
   "metadata": {},
   "outputs": [],
   "source": [
    "setproctitle.setproctitle(\"SSGAN\") # Shows string as Process name"
   ]
  },
  {
   "cell_type": "code",
   "execution_count": 62,
   "metadata": {},
   "outputs": [
    {
     "name": "stdout",
     "output_type": "stream",
     "text": [
      "Selected device: NVIDIA RTX A5000\n",
      "cuda:1\n"
     ]
    }
   ],
   "source": [
    "gpu_id = input(\"Enter GPU index: \") # Pick a GPU  \n",
    "\n",
    "# Set device to use GPU if available, otherwise use CPU\n",
    "if int(gpu_id) >= 0 and torch.cuda.is_available():\n",
    "    device = torch.device(\"cuda:\" + gpu_id)\n",
    "    print(\"Selected device:\", torch.cuda.get_device_name(device))\n",
    "    print(f\"cuda:{gpu_id}\")\n",
    "else:\n",
    "    print(\"No GPU available or no GPU index specified, using CPU instead.\")\n",
    "    device = torch.device(\"cpu\")"
   ]
  },
  {
   "cell_type": "code",
   "execution_count": 63,
   "metadata": {},
   "outputs": [
    {
     "name": "stdout",
     "output_type": "stream",
     "text": [
      "Device: cuda\n"
     ]
    }
   ],
   "source": [
    "device = torch.device(\"cuda\" if torch.cuda.is_available() else \"cpu\")\n",
    "print(f\"Device: {device}\")"
   ]
  },
  {
   "cell_type": "markdown",
   "metadata": {},
   "source": [
    "## Load Data"
   ]
  },
  {
   "cell_type": "code",
   "execution_count": 64,
   "metadata": {},
   "outputs": [],
   "source": [
    "train_loader, valid_loader, test_loader = load_data(batch_size=128)"
   ]
  },
  {
   "cell_type": "markdown",
   "metadata": {},
   "source": [
    "## SSGAN"
   ]
  },
  {
   "cell_type": "code",
   "execution_count": 65,
   "metadata": {},
   "outputs": [],
   "source": [
    "class Discriminator(nn.Module):\n",
    "  def __init__(self, in_features, n_classes):\n",
    "    super().__init__()\n",
    "    self.in_features = in_features\n",
    "\n",
    "    # Discriminator will down-sample the input producing a binary output\n",
    "    self.fc1 = nn.Linear(in_features=in_features, out_features=64)\n",
    "    self.leaky_relu1 = nn.LeakyReLU(negative_slope=0.2)\n",
    "    self.fc2 = nn.Linear(in_features=64, out_features=64)\n",
    "    self.leaky_relu2 = nn.LeakyReLU(negative_slope=0.2)\n",
    "    self.fc3 = nn.Linear(in_features=64, out_features=32)\n",
    "    self.leaky_relu3 = nn.LeakyReLU(negative_slope=0.2)\n",
    "    #self.fc4 = nn.Linear(in_features=32, out_features=out_features)\n",
    "    self.dropout = nn.Dropout(0.3)\n",
    "\n",
    "    self.adv_layer = nn.Linear(in_features=32, out_features=1) # Fake or Real\n",
    "    self.aux_layer = nn.Linear(in_features=32, out_features=n_classes+1) # Class + fake\n",
    "\n",
    "    self.sigmoid =  nn.Sigmoid()\n",
    "\n",
    "\n",
    "\n",
    "  def forward(self, x):\n",
    "    # Rehape passed image batch\n",
    "    batch_size = x.shape[0]\n",
    "    x = x.view(batch_size, -1)\n",
    "    # Feed forward\n",
    "    x = self.fc1(x)\n",
    "    x = self.leaky_relu1(x)\n",
    "    #x = self.dropout(x)\n",
    "    x = self.fc2(x)\n",
    "    x = self.leaky_relu2(x)\n",
    "    #x = self.dropout(x)\n",
    "    x = self.fc3(x)\n",
    "    x = self.leaky_relu3(x)\n",
    "    #x = self.dropout(x)\n",
    "    validity = self.sigmoid(self.adv_layer(x))\n",
    "    label_logits = self.aux_layer(x)\n",
    "\n",
    "    return validity, label_logits"
   ]
  },
  {
   "cell_type": "code",
   "execution_count": 66,
   "metadata": {},
   "outputs": [],
   "source": [
    "class Generator(nn.Module):\n",
    "  def __init__(self, in_features, out_features):\n",
    "    super(Generator, self).__init__()\n",
    "    self.in_features = in_features\n",
    "    self.out_features = out_features\n",
    "\n",
    "    # Generator will up-sample the input producing input of size\n",
    "    # suitable for feeding into discriminator\n",
    "    self.fc1 = nn.Linear(in_features=in_features, out_features=32)\n",
    "    self.relu1 = nn.LeakyReLU(negative_slope=0.2)\n",
    "    self.fc2 = nn.Linear(in_features=32, out_features=64)\n",
    "    self.relu2 = nn.LeakyReLU(negative_slope=0.2)\n",
    "    self.fc3 = nn.Linear(in_features=64, out_features=128)\n",
    "    self.relu3 = nn.LeakyReLU(negative_slope=0.2)\n",
    "    self.fc4 = nn.Linear(in_features=128, out_features=out_features)\n",
    "    self.dropout = nn.Dropout(0.3)\n",
    "    self.tanh = nn.Tanh()\n",
    "\n",
    "\n",
    "  def forward(self, x):\n",
    "    # Feed forward\n",
    "    x = self.fc1(x)\n",
    "    x = self.relu1(x)\n",
    "    x = self.dropout(x)\n",
    "    x = self.fc2(x)\n",
    "    x = self.relu2(x)\n",
    "    x = self.dropout(x)\n",
    "    x = self.fc3(x)\n",
    "    x = self.relu3(x)\n",
    "    x = self.dropout(x)\n",
    "    x = self.fc4(x)\n",
    "    tanh_out = self.tanh(x)\n",
    "\n",
    "    return tanh_out"
   ]
  },
  {
   "cell_type": "markdown",
   "metadata": {},
   "source": [
    "## Train"
   ]
  },
  {
   "cell_type": "code",
   "execution_count": 67,
   "metadata": {},
   "outputs": [],
   "source": [
    "z_size = 100\n",
    "n_epochs = 100\n",
    "\n",
    "model_d = Discriminator(in_features=49, n_classes=7).to(device)\n",
    "model_g = Generator(in_features=z_size, out_features=49).to(device)\n",
    "\n",
    "d_optim = optim.Adam(model_d.parameters(), lr=0.002, betas=(0.5, 0.999))\n",
    "g_optim = optim.Adam(model_g.parameters(), lr=0.002, betas=(0.5, 0.999))\n",
    "\n",
    "adversarial_loss = torch.nn.BCELoss()\n",
    "auxiliary_loss = torch.nn.CrossEntropyLoss()"
   ]
  },
  {
   "cell_type": "code",
   "execution_count": 68,
   "metadata": {},
   "outputs": [],
   "source": [
    "validation_recall = []"
   ]
  },
  {
   "cell_type": "code",
   "execution_count": 69,
   "metadata": {},
   "outputs": [
    {
     "name": "stderr",
     "output_type": "stream",
     "text": [
      "/home/j_v609/miniconda3/envs/DF-ML/lib/python3.12/site-packages/sklearn/metrics/_classification.py:1509: UndefinedMetricWarning: Recall is ill-defined and being set to 0.0 in labels with no true samples. Use `zero_division` parameter to control this behavior.\n",
      "  _warn_prf(average, modifier, f\"{metric.capitalize()} is\", len(result))\n"
     ]
    },
    {
     "name": "stdout",
     "output_type": "stream",
     "text": [
      "Epoch: 0 \tepoch_d_loss: 0.292428 \tepoch_g_loss: 1.971591 \td_acc: 0.88 \treal_acc: 0.57 \tfake_acc: 0.97\n",
      "Epoch: 0 \tValidation Class Recall [0.72234436 0.         0.         0.         0.         0.\n",
      " 0.         0.        ]\n"
     ]
    },
    {
     "name": "stderr",
     "output_type": "stream",
     "text": [
      "/home/j_v609/miniconda3/envs/DF-ML/lib/python3.12/site-packages/sklearn/metrics/_classification.py:1509: UndefinedMetricWarning: Recall is ill-defined and being set to 0.0 in labels with no true samples. Use `zero_division` parameter to control this behavior.\n",
      "  _warn_prf(average, modifier, f\"{metric.capitalize()} is\", len(result))\n"
     ]
    },
    {
     "name": "stdout",
     "output_type": "stream",
     "text": [
      "Epoch: 1 \tepoch_d_loss: 0.214265 \tepoch_g_loss: 2.429528 \td_acc: 0.91 \treal_acc: 0.60 \tfake_acc: 0.98\n",
      "Epoch: 1 \tValidation Class Recall [9.99987718e-01 0.00000000e+00 0.00000000e+00 8.12931870e-04\n",
      " 0.00000000e+00 0.00000000e+00 0.00000000e+00 0.00000000e+00]\n"
     ]
    },
    {
     "ename": "KeyboardInterrupt",
     "evalue": "",
     "output_type": "error",
     "traceback": [
      "\u001b[0;31m---------------------------------------------------------------------------\u001b[0m",
      "\u001b[0;31mKeyboardInterrupt\u001b[0m                         Traceback (most recent call last)",
      "Cell \u001b[0;32mIn[69], line 12\u001b[0m\n\u001b[1;32m      9\u001b[0m d_batch_fake_acc \u001b[38;5;241m=\u001b[39m \u001b[38;5;241m0\u001b[39m\n\u001b[1;32m     11\u001b[0m \u001b[38;5;66;03m# Batches\u001b[39;00m\n\u001b[0;32m---> 12\u001b[0m \u001b[43m\u001b[49m\u001b[38;5;28;43;01mfor\u001b[39;49;00m\u001b[43m \u001b[49m\u001b[43mcurr_batch\u001b[49m\u001b[43m,\u001b[49m\u001b[43m \u001b[49m\u001b[43m(\u001b[49m\u001b[43mreal_images\u001b[49m\u001b[43m,\u001b[49m\u001b[43m \u001b[49m\u001b[43mreal_target\u001b[49m\u001b[43m)\u001b[49m\u001b[43m \u001b[49m\u001b[38;5;129;43;01min\u001b[39;49;00m\u001b[43m \u001b[49m\u001b[38;5;28;43menumerate\u001b[39;49m\u001b[43m(\u001b[49m\u001b[43mtrain_loader\u001b[49m\u001b[43m)\u001b[49m\u001b[43m:\u001b[49m\n\u001b[1;32m     13\u001b[0m \u001b[43m  \u001b[49m\u001b[43mreal_images\u001b[49m\u001b[43m,\u001b[49m\u001b[43m \u001b[49m\u001b[43mreal_target\u001b[49m\u001b[43m \u001b[49m\u001b[38;5;241;43m=\u001b[39;49m\u001b[43m \u001b[49m\u001b[43mreal_images\u001b[49m\u001b[38;5;241;43m.\u001b[39;49m\u001b[43mto\u001b[49m\u001b[43m(\u001b[49m\u001b[43mdevice\u001b[49m\u001b[43m)\u001b[49m\u001b[43m,\u001b[49m\u001b[43m \u001b[49m\u001b[43mreal_target\u001b[49m\u001b[38;5;241;43m.\u001b[39;49m\u001b[43mto\u001b[49m\u001b[43m(\u001b[49m\u001b[43mdevice\u001b[49m\u001b[43m)\u001b[49m\n\u001b[1;32m     14\u001b[0m \u001b[43m  \u001b[49m\u001b[43mreal_images\u001b[49m\u001b[43m \u001b[49m\u001b[38;5;241;43m=\u001b[39;49m\u001b[43m \u001b[49m\u001b[43m(\u001b[49m\u001b[43mreal_images\u001b[49m\u001b[43m \u001b[49m\u001b[38;5;241;43m*\u001b[39;49m\u001b[43m \u001b[49m\u001b[38;5;241;43m2\u001b[39;49m\u001b[43m)\u001b[49m\u001b[43m \u001b[49m\u001b[38;5;241;43m-\u001b[39;49m\u001b[43m \u001b[49m\u001b[38;5;241;43m1\u001b[39;49m\n",
      "File \u001b[0;32m~/miniconda3/envs/DF-ML/lib/python3.12/site-packages/torch/utils/data/dataloader.py:631\u001b[0m, in \u001b[0;36m_BaseDataLoaderIter.__next__\u001b[0;34m(self)\u001b[0m\n\u001b[1;32m    628\u001b[0m \u001b[38;5;28;01mif\u001b[39;00m \u001b[38;5;28mself\u001b[39m\u001b[38;5;241m.\u001b[39m_sampler_iter \u001b[38;5;129;01mis\u001b[39;00m \u001b[38;5;28;01mNone\u001b[39;00m:\n\u001b[1;32m    629\u001b[0m     \u001b[38;5;66;03m# TODO(https://github.com/pytorch/pytorch/issues/76750)\u001b[39;00m\n\u001b[1;32m    630\u001b[0m     \u001b[38;5;28mself\u001b[39m\u001b[38;5;241m.\u001b[39m_reset()  \u001b[38;5;66;03m# type: ignore[call-arg]\u001b[39;00m\n\u001b[0;32m--> 631\u001b[0m data \u001b[38;5;241m=\u001b[39m \u001b[38;5;28;43mself\u001b[39;49m\u001b[38;5;241;43m.\u001b[39;49m\u001b[43m_next_data\u001b[49m\u001b[43m(\u001b[49m\u001b[43m)\u001b[49m\n\u001b[1;32m    632\u001b[0m \u001b[38;5;28mself\u001b[39m\u001b[38;5;241m.\u001b[39m_num_yielded \u001b[38;5;241m+\u001b[39m\u001b[38;5;241m=\u001b[39m \u001b[38;5;241m1\u001b[39m\n\u001b[1;32m    633\u001b[0m \u001b[38;5;28;01mif\u001b[39;00m \u001b[38;5;28mself\u001b[39m\u001b[38;5;241m.\u001b[39m_dataset_kind \u001b[38;5;241m==\u001b[39m _DatasetKind\u001b[38;5;241m.\u001b[39mIterable \u001b[38;5;129;01mand\u001b[39;00m \\\n\u001b[1;32m    634\u001b[0m         \u001b[38;5;28mself\u001b[39m\u001b[38;5;241m.\u001b[39m_IterableDataset_len_called \u001b[38;5;129;01mis\u001b[39;00m \u001b[38;5;129;01mnot\u001b[39;00m \u001b[38;5;28;01mNone\u001b[39;00m \u001b[38;5;129;01mand\u001b[39;00m \\\n\u001b[1;32m    635\u001b[0m         \u001b[38;5;28mself\u001b[39m\u001b[38;5;241m.\u001b[39m_num_yielded \u001b[38;5;241m>\u001b[39m \u001b[38;5;28mself\u001b[39m\u001b[38;5;241m.\u001b[39m_IterableDataset_len_called:\n",
      "File \u001b[0;32m~/miniconda3/envs/DF-ML/lib/python3.12/site-packages/torch/utils/data/dataloader.py:675\u001b[0m, in \u001b[0;36m_SingleProcessDataLoaderIter._next_data\u001b[0;34m(self)\u001b[0m\n\u001b[1;32m    673\u001b[0m \u001b[38;5;28;01mdef\u001b[39;00m \u001b[38;5;21m_next_data\u001b[39m(\u001b[38;5;28mself\u001b[39m):\n\u001b[1;32m    674\u001b[0m     index \u001b[38;5;241m=\u001b[39m \u001b[38;5;28mself\u001b[39m\u001b[38;5;241m.\u001b[39m_next_index()  \u001b[38;5;66;03m# may raise StopIteration\u001b[39;00m\n\u001b[0;32m--> 675\u001b[0m     data \u001b[38;5;241m=\u001b[39m \u001b[38;5;28;43mself\u001b[39;49m\u001b[38;5;241;43m.\u001b[39;49m\u001b[43m_dataset_fetcher\u001b[49m\u001b[38;5;241;43m.\u001b[39;49m\u001b[43mfetch\u001b[49m\u001b[43m(\u001b[49m\u001b[43mindex\u001b[49m\u001b[43m)\u001b[49m  \u001b[38;5;66;03m# may raise StopIteration\u001b[39;00m\n\u001b[1;32m    676\u001b[0m     \u001b[38;5;28;01mif\u001b[39;00m \u001b[38;5;28mself\u001b[39m\u001b[38;5;241m.\u001b[39m_pin_memory:\n\u001b[1;32m    677\u001b[0m         data \u001b[38;5;241m=\u001b[39m _utils\u001b[38;5;241m.\u001b[39mpin_memory\u001b[38;5;241m.\u001b[39mpin_memory(data, \u001b[38;5;28mself\u001b[39m\u001b[38;5;241m.\u001b[39m_pin_memory_device)\n",
      "File \u001b[0;32m~/miniconda3/envs/DF-ML/lib/python3.12/site-packages/torch/utils/data/_utils/fetch.py:51\u001b[0m, in \u001b[0;36m_MapDatasetFetcher.fetch\u001b[0;34m(self, possibly_batched_index)\u001b[0m\n\u001b[1;32m     49\u001b[0m         data \u001b[38;5;241m=\u001b[39m \u001b[38;5;28mself\u001b[39m\u001b[38;5;241m.\u001b[39mdataset\u001b[38;5;241m.\u001b[39m__getitems__(possibly_batched_index)\n\u001b[1;32m     50\u001b[0m     \u001b[38;5;28;01melse\u001b[39;00m:\n\u001b[0;32m---> 51\u001b[0m         data \u001b[38;5;241m=\u001b[39m [\u001b[38;5;28;43mself\u001b[39;49m\u001b[38;5;241;43m.\u001b[39;49m\u001b[43mdataset\u001b[49m\u001b[43m[\u001b[49m\u001b[43midx\u001b[49m\u001b[43m]\u001b[49m \u001b[38;5;28;01mfor\u001b[39;00m idx \u001b[38;5;129;01min\u001b[39;00m possibly_batched_index]\n\u001b[1;32m     52\u001b[0m \u001b[38;5;28;01melse\u001b[39;00m:\n\u001b[1;32m     53\u001b[0m     data \u001b[38;5;241m=\u001b[39m \u001b[38;5;28mself\u001b[39m\u001b[38;5;241m.\u001b[39mdataset[possibly_batched_index]\n",
      "File \u001b[0;32m~/my_code/Defensive-ML/notebooks/../src/dataset.py:24\u001b[0m, in \u001b[0;36mCICIDSDataset.__getitem__\u001b[0;34m(self, idx)\u001b[0m\n\u001b[1;32m     23\u001b[0m \u001b[38;5;28;01mdef\u001b[39;00m \u001b[38;5;21m__getitem__\u001b[39m(\u001b[38;5;28mself\u001b[39m, idx):\n\u001b[0;32m---> 24\u001b[0m   feature \u001b[38;5;241m=\u001b[39m \u001b[38;5;28;43mself\u001b[39;49m\u001b[38;5;241;43m.\u001b[39;49m\u001b[43mfeatures\u001b[49m\u001b[38;5;241;43m.\u001b[39;49m\u001b[43miloc\u001b[49m\u001b[43m[\u001b[49m\u001b[43midx\u001b[49m\u001b[43m,\u001b[49m\u001b[43m \u001b[49m\u001b[43m:\u001b[49m\u001b[43m]\u001b[49m\n\u001b[1;32m     25\u001b[0m   label \u001b[38;5;241m=\u001b[39m \u001b[38;5;28mself\u001b[39m\u001b[38;5;241m.\u001b[39mlabels\u001b[38;5;241m.\u001b[39miloc[idx]\n\u001b[1;32m     26\u001b[0m   \u001b[38;5;28;01mif\u001b[39;00m \u001b[38;5;28mself\u001b[39m\u001b[38;5;241m.\u001b[39mtransform:\n",
      "File \u001b[0;32m~/miniconda3/envs/DF-ML/lib/python3.12/site-packages/pandas/core/indexing.py:1180\u001b[0m, in \u001b[0;36m_LocationIndexer.__getitem__\u001b[0;34m(self, key)\u001b[0m\n\u001b[1;32m   1178\u001b[0m check_dict_or_set_indexers(key)\n\u001b[1;32m   1179\u001b[0m \u001b[38;5;28;01mif\u001b[39;00m \u001b[38;5;28mtype\u001b[39m(key) \u001b[38;5;129;01mis\u001b[39;00m \u001b[38;5;28mtuple\u001b[39m:\n\u001b[0;32m-> 1180\u001b[0m     key \u001b[38;5;241m=\u001b[39m \u001b[38;5;28;43mtuple\u001b[39;49m\u001b[43m(\u001b[49m\u001b[38;5;28;43mlist\u001b[39;49m\u001b[43m(\u001b[49m\u001b[43mx\u001b[49m\u001b[43m)\u001b[49m\u001b[43m \u001b[49m\u001b[38;5;28;43;01mif\u001b[39;49;00m\u001b[43m \u001b[49m\u001b[43mis_iterator\u001b[49m\u001b[43m(\u001b[49m\u001b[43mx\u001b[49m\u001b[43m)\u001b[49m\u001b[43m \u001b[49m\u001b[38;5;28;43;01melse\u001b[39;49;00m\u001b[43m \u001b[49m\u001b[43mx\u001b[49m\u001b[43m \u001b[49m\u001b[38;5;28;43;01mfor\u001b[39;49;00m\u001b[43m \u001b[49m\u001b[43mx\u001b[49m\u001b[43m \u001b[49m\u001b[38;5;129;43;01min\u001b[39;49;00m\u001b[43m \u001b[49m\u001b[43mkey\u001b[49m\u001b[43m)\u001b[49m\n\u001b[1;32m   1181\u001b[0m     key \u001b[38;5;241m=\u001b[39m \u001b[38;5;28mtuple\u001b[39m(com\u001b[38;5;241m.\u001b[39mapply_if_callable(x, \u001b[38;5;28mself\u001b[39m\u001b[38;5;241m.\u001b[39mobj) \u001b[38;5;28;01mfor\u001b[39;00m x \u001b[38;5;129;01min\u001b[39;00m key)\n\u001b[1;32m   1182\u001b[0m     \u001b[38;5;28;01mif\u001b[39;00m \u001b[38;5;28mself\u001b[39m\u001b[38;5;241m.\u001b[39m_is_scalar_access(key):\n",
      "File \u001b[0;32m~/miniconda3/envs/DF-ML/lib/python3.12/site-packages/pandas/core/indexing.py:1180\u001b[0m, in \u001b[0;36m<genexpr>\u001b[0;34m(.0)\u001b[0m\n\u001b[1;32m   1178\u001b[0m check_dict_or_set_indexers(key)\n\u001b[1;32m   1179\u001b[0m \u001b[38;5;28;01mif\u001b[39;00m \u001b[38;5;28mtype\u001b[39m(key) \u001b[38;5;129;01mis\u001b[39;00m \u001b[38;5;28mtuple\u001b[39m:\n\u001b[0;32m-> 1180\u001b[0m     key \u001b[38;5;241m=\u001b[39m \u001b[38;5;28mtuple\u001b[39m(\u001b[38;5;28mlist\u001b[39m(x) \u001b[38;5;28;01mif\u001b[39;00m is_iterator(x) \u001b[38;5;28;01melse\u001b[39;00m x \u001b[38;5;28;01mfor\u001b[39;00m x \u001b[38;5;129;01min\u001b[39;00m key)\n\u001b[1;32m   1181\u001b[0m     key \u001b[38;5;241m=\u001b[39m \u001b[38;5;28mtuple\u001b[39m(com\u001b[38;5;241m.\u001b[39mapply_if_callable(x, \u001b[38;5;28mself\u001b[39m\u001b[38;5;241m.\u001b[39mobj) \u001b[38;5;28;01mfor\u001b[39;00m x \u001b[38;5;129;01min\u001b[39;00m key)\n\u001b[1;32m   1182\u001b[0m     \u001b[38;5;28;01mif\u001b[39;00m \u001b[38;5;28mself\u001b[39m\u001b[38;5;241m.\u001b[39m_is_scalar_access(key):\n",
      "\u001b[0;31mKeyboardInterrupt\u001b[0m: "
     ]
    }
   ],
   "source": [
    "for epoch in range(n_epochs):\n",
    "  # Switch the training mode on\n",
    "  model_d.train()\n",
    "  model_g.train()\n",
    "  d_running_batch_loss = 0\n",
    "  g_running_batch_loss = 0\n",
    "  d_batch_acc = 0\n",
    "  d_batch_real_acc = 0\n",
    "  d_batch_fake_acc = 0\n",
    "\n",
    "  # Batches\n",
    "  for curr_batch, (real_images, real_target) in enumerate(train_loader):\n",
    "    real_images, real_target = real_images.to(device), real_target.to(device)\n",
    "    real_images = (real_images * 2) - 1\n",
    "    batch_size = real_images.shape[0]\n",
    "\n",
    "    # -----------------\n",
    "    #  Train Generator\n",
    "    # -----------------\n",
    "    g_optim.zero_grad()\n",
    "    # Sample Noise\n",
    "    z = np.random.uniform(-1, 1, size=(batch_size, z_size))\n",
    "    z = torch.from_numpy(z).float().to(device)\n",
    "    # Generate a batch of images\n",
    "    gen_imgs = model_g(z)\n",
    "    # Loss measures generator's ability to fool the discriminator\n",
    "    validity, _ = model_d(gen_imgs) # Model input\n",
    "    valid = torch.ones(batch_size, 1).to(device) # all 1 for all fake images\n",
    "    g_loss = adversarial_loss(validity, valid)\n",
    "\n",
    "    g_loss.backward()\n",
    "    g_optim.step()\n",
    "    #print(f\"g_loss: {g_loss}\")\n",
    "\n",
    "    # ---------------------\n",
    "    #  Train Discriminator\n",
    "    # ---------------------\n",
    "    d_optim.zero_grad()\n",
    "\n",
    "    # Loss for real images\n",
    "    real_pred, real_aux = model_d(real_images)\n",
    "    d_real_loss = (adversarial_loss(real_pred, valid) + auxiliary_loss(real_aux, real_target.view(-1))) / 2\n",
    "    #print(f\"d_real_loss: {d_real_loss}\")\n",
    "\n",
    "    # Loss for fake images\n",
    "    fake_pred, fake_aux = model_d(gen_imgs.detach()) # Model input\n",
    "    fake = torch.zeros(batch_size, 1).to(device) # all 0 for all fake images\n",
    "    fake_aux_gt = torch.full((batch_size,), 7).to(device) # 10 = n_classes\n",
    "    d_fake_loss = (adversarial_loss(fake_pred, fake) + auxiliary_loss(fake_aux, fake_aux_gt)) / 2\n",
    "    #print(f\"d_fake_loss: {d_fake_loss}\")\n",
    "\n",
    "    # Total discriminator loss\n",
    "    d_loss = (d_real_loss + d_fake_loss) / 2\n",
    "\n",
    "    # Calculate discriminator accuracy\n",
    "    real_aux = real_aux.data.cpu().numpy()\n",
    "    real_target = real_target.data.cpu().numpy()\n",
    "    fake_aux = fake_aux.data.cpu().numpy()\n",
    "    fake_aux_gt = fake_aux_gt.data.cpu().numpy()\n",
    "    pred = np.concatenate([real_aux, fake_aux], axis=0)\n",
    "    gt = np.concatenate([real_target.flatten(), fake_aux_gt], axis=0)\n",
    "    d_acc = np.mean(np.argmax(pred, axis=1) == gt)\n",
    "\n",
    "    d_real_acc = np.mean(np.argmax(real_aux, axis=1) == real_target)\n",
    "    d_fake_acc = np.mean(np.argmax(fake_aux, axis=1) == fake_aux_gt)\n",
    "\n",
    "    d_loss.backward()\n",
    "    d_optim.step()\n",
    "\n",
    "    # Log loss\n",
    "    d_running_batch_loss += d_loss\n",
    "    g_running_batch_loss += g_loss\n",
    "    d_batch_acc += d_acc\n",
    "    d_batch_real_acc += d_real_acc\n",
    "    d_batch_fake_acc += d_fake_acc\n",
    "\n",
    "  v_y_true = []\n",
    "  v_y_pred = []\n",
    "  for _, (real_images, real_target) in enumerate(valid_loader):\n",
    "    model_d.eval()\n",
    "    with torch.no_grad():\n",
    "      _, real_aux = model_d(real_images.to(device))\n",
    "    real_aux = real_aux.data.cpu().numpy()\n",
    "    real_target = real_target.data.cpu().numpy()\n",
    "    v_y_pred += np.argmax(real_aux, axis=1).tolist()\n",
    "    v_y_true += real_target.tolist()\n",
    "\n",
    "  val_recall_per_class = recall_score(v_y_true, v_y_pred, average=None) \n",
    "  validation_recall.append(val_recall_per_class)\n",
    "\n",
    "\n",
    "\n",
    "\n",
    "\n",
    "\n",
    "\n",
    "  d_running_batch_loss = d_running_batch_loss /  len(train_loader)\n",
    "  g_running_batch_loss = g_running_batch_loss /  len(train_loader)\n",
    "  d_batch_acc = d_batch_acc /  len(train_loader)\n",
    "  d_batch_real_acc = d_batch_real_acc /  len(train_loader)\n",
    "  d_batch_fake_acc = d_batch_fake_acc /  len(train_loader)\n",
    "  print(f'Epoch: {epoch} \\tepoch_d_loss: {d_running_batch_loss:.6f} \\tepoch_g_loss: {g_running_batch_loss:.6f} \\td_acc: {d_batch_acc:.2f} \\treal_acc: {d_batch_real_acc:.2f} \\tfake_acc: {d_batch_fake_acc:.2f}')\n",
    "  print(f'Epoch: {epoch} \\tValidation Class Recall {val_recall_per_class}')"
   ]
  },
  {
   "cell_type": "code",
   "execution_count": null,
   "metadata": {},
   "outputs": [
    {
     "data": {
      "text/plain": [
       "0.5938748335552596"
      ]
     },
     "execution_count": 59,
     "metadata": {},
     "output_type": "execute_result"
    }
   ],
   "source": [
    "len(v_y_true) / len(v_y_pred)"
   ]
  },
  {
   "cell_type": "code",
   "execution_count": null,
   "metadata": {},
   "outputs": [],
   "source": []
  }
 ],
 "metadata": {
  "kernelspec": {
   "display_name": "DF-ML",
   "language": "python",
   "name": "python3"
  },
  "language_info": {
   "codemirror_mode": {
    "name": "ipython",
    "version": 3
   },
   "file_extension": ".py",
   "mimetype": "text/x-python",
   "name": "python",
   "nbconvert_exporter": "python",
   "pygments_lexer": "ipython3",
   "version": "3.12.2"
  }
 },
 "nbformat": 4,
 "nbformat_minor": 2
}
