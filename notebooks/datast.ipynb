{
 "cells": [
  {
   "cell_type": "code",
   "execution_count": null,
   "metadata": {},
   "outputs": [],
   "source": [
    "from sklearn.model_selection import train_test_split\n",
    "from sklearn.datasets import load_diabetes\n"
   ]
  },
  {
   "cell_type": "code",
   "execution_count": null,
   "metadata": {},
   "outputs": [],
   "source": [
    "\n",
    "\n",
    "def get_four_sets(data):\n",
    "    \"\"\"\n",
    "    Splits the dataset into four sets by first splitting the data into two, and then each half into two more parts.\n",
    "    \n",
    "    Parameters:\n",
    "        data : dataset like sklearn's dataset\n",
    "            The dataset to split. It must have 'data' and 'target' attributes.\n",
    "    \n",
    "    Returns:\n",
    "        list\n",
    "            A list of tuples, each containing the data and labels for each of the four final sets.\n",
    "    \"\"\"\n",
    "    X, y = data.data, data.target\n",
    "    \n",
    "    # First level of split\n",
    "    X1, X2, y1, y2 = train_test_split(X, y, test_size=0.5, random_state=42)\n",
    "    \n",
    "    # Second level of split for the first half\n",
    "    X11, X12, y11, y12 = train_test_split(X1, y1, test_size=0.5, random_state=42)\n",
    "    \n",
    "    # Second level of split for the second half\n",
    "    X21, X22, y21, y22 = train_test_split(X2, y2, test_size=0.5, random_state=42)\n",
    "    \n",
    "    # Returning the final four sets\n",
    "    return [(X11, y11), (X12, y12), (X21, y21), (X22, y22)]\n",
    "\n",
    "# Example usage:\n",
    "from sklearn.datasets import load_diabetes\n",
    "\n",
    "# Load the dataset\n",
    "diabetes = load_diabetes()\n",
    "\n",
    "# Get four sets\n",
    "sets = get_four_sets(diabetes)\n",
    "\n",
    "# Printing the shapes of each set to verify\n",
    "for idx, (X_set, y_set) in enumerate(sets):\n",
    "    print(f\"Set {idx+1}: Shapes of X and y:\", X_set.shape, y_set.shape)"
   ]
  }
 ],
 "metadata": {
  "language_info": {
   "name": "python"
  }
 },
 "nbformat": 4,
 "nbformat_minor": 2
}
